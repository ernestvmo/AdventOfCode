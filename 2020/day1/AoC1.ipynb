{
 "cells": [
  {
   "cell_type": "code",
   "execution_count": 1,
   "metadata": {},
   "outputs": [],
   "source": [
    "def load_data(filename):\n",
    "    with open(filename) as file:\n",
    "        expenses = []\n",
    "        for line in file:\n",
    "            line = line.rstrip(\"\\n\")\n",
    "            expenses.append(int(line))\n",
    "    return expenses"
   ]
  },
  {
   "cell_type": "markdown",
   "metadata": {},
   "source": [
    "#### Part 1"
   ]
  },
  {
   "cell_type": "code",
   "execution_count": 2,
   "metadata": {},
   "outputs": [],
   "source": [
    "def find_2020_pairing(expenses: list):\n",
    "    for expense in expenses:\n",
    "        for expense_bis in expenses:\n",
    "            if expense != expense_bis:\n",
    "                if expense + expense_bis == 2020:\n",
    "                    return expense * expense_bis"
   ]
  },
  {
   "cell_type": "code",
   "execution_count": 3,
   "metadata": {},
   "outputs": [
    {
     "name": "stdout",
     "output_type": "stream",
     "text": [
      "319531\n"
     ]
    }
   ],
   "source": [
    "expenses = load_data(\"input.txt\")\n",
    "solution = find_2020_pairing(expenses)\n",
    "print(solution)"
   ]
  },
  {
   "cell_type": "code",
   "execution_count": 4,
   "metadata": {},
   "outputs": [],
   "source": [
    "def find_2020_trio(expenses: list):\n",
    "    for expense in expenses:\n",
    "        for expense_bis in expenses:\n",
    "            if expense + expense_bis < 2020:\n",
    "                for expense_tris in expenses:\n",
    "                    if expense + expense_bis + expense_tris == 2020:\n",
    "                        return expense * expense_bis * expense_tris"
   ]
  },
  {
   "cell_type": "code",
   "execution_count": 5,
   "metadata": {},
   "outputs": [
    {
     "name": "stdout",
     "output_type": "stream",
     "text": [
      "244300320\n"
     ]
    }
   ],
   "source": [
    "expenses = load_data(\"input.txt\")\n",
    "solution = find_2020_trio(expenses)\n",
    "print(solution)"
   ]
  }
 ],
 "metadata": {
  "kernelspec": {
   "display_name": "Python 3.9.13 ('AoC')",
   "language": "python",
   "name": "python3"
  },
  "language_info": {
   "codemirror_mode": {
    "name": "ipython",
    "version": 3
   },
   "file_extension": ".py",
   "mimetype": "text/x-python",
   "name": "python",
   "nbconvert_exporter": "python",
   "pygments_lexer": "ipython3",
   "version": "3.9.13"
  },
  "orig_nbformat": 4,
  "vscode": {
   "interpreter": {
    "hash": "99b8b259ecf060e1325605a5662f2662c95fc7cc17fc11e32a931e17a299fa8e"
   }
  }
 },
 "nbformat": 4,
 "nbformat_minor": 2
}
