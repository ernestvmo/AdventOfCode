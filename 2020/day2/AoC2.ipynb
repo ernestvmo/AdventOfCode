{
 "cells": [
  {
   "cell_type": "code",
   "execution_count": 1,
   "metadata": {},
   "outputs": [],
   "source": [
    "def load_data(filename: str):\n",
    "    with open(filename) as file:\n",
    "        passwords = []\n",
    "        for line in file:\n",
    "            line = line.rstrip(\"\\n\")\n",
    "            check, password = line.split(\":\")\n",
    "            letter = check[-1]\n",
    "            ranges = check[:-1].split(\"-\")\n",
    "            check = [int(ranges[0]), int(ranges[1]), letter]\n",
    "            password = password.strip()\n",
    "            passwords.append([check, password])\n",
    "    return passwords"
   ]
  },
  {
   "cell_type": "markdown",
   "metadata": {},
   "source": [
    "#### Part 1"
   ]
  },
  {
   "cell_type": "code",
   "execution_count": 2,
   "metadata": {},
   "outputs": [],
   "source": [
    "def count_correct_passwords(passwords: list):\n",
    "    count = 0\n",
    "    for check, password in passwords:\n",
    "        if check[0] <= password.count(check[2]) <= check[1]:\n",
    "            count += 1\n",
    "    return count"
   ]
  },
  {
   "cell_type": "code",
   "execution_count": 3,
   "metadata": {},
   "outputs": [
    {
     "name": "stdout",
     "output_type": "stream",
     "text": [
      "569\n"
     ]
    }
   ],
   "source": [
    "passwords = load_data(\"input.txt\")\n",
    "answer = count_correct_passwords(passwords)\n",
    "print(answer)"
   ]
  },
  {
   "cell_type": "markdown",
   "metadata": {},
   "source": [
    "#### Part 2"
   ]
  },
  {
   "cell_type": "code",
   "execution_count": 4,
   "metadata": {},
   "outputs": [],
   "source": [
    "def count_correct_passwords_updated(passwords: list):\n",
    "    count = 0\n",
    "    for check, password in passwords:\n",
    "        if (password[check[0] - 1] == check[2] and password[check[1] - 1] != check[2]) or (password[check[0] - 1] != check[2] and password[check[1] - 1] == check[2]):\n",
    "            count += 1\n",
    "    return count"
   ]
  },
  {
   "cell_type": "code",
   "execution_count": 5,
   "metadata": {},
   "outputs": [
    {
     "name": "stdout",
     "output_type": "stream",
     "text": [
      "346\n"
     ]
    }
   ],
   "source": [
    "passwords = load_data(\"input.txt\")\n",
    "answer = count_correct_passwords_updated(passwords)\n",
    "print(answer)"
   ]
  }
 ],
 "metadata": {
  "kernelspec": {
   "display_name": "Python 3.9.13 ('AoC')",
   "language": "python",
   "name": "python3"
  },
  "language_info": {
   "codemirror_mode": {
    "name": "ipython",
    "version": 3
   },
   "file_extension": ".py",
   "mimetype": "text/x-python",
   "name": "python",
   "nbconvert_exporter": "python",
   "pygments_lexer": "ipython3",
   "version": "3.9.13"
  },
  "orig_nbformat": 4,
  "vscode": {
   "interpreter": {
    "hash": "99b8b259ecf060e1325605a5662f2662c95fc7cc17fc11e32a931e17a299fa8e"
   }
  }
 },
 "nbformat": 4,
 "nbformat_minor": 2
}
