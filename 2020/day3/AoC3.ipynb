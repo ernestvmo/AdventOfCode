{
 "cells": [
  {
   "cell_type": "code",
   "execution_count": 1,
   "metadata": {},
   "outputs": [],
   "source": [
    "def load_data(filename: str):\n",
    "    with open(filename) as file:\n",
    "        forest = []\n",
    "        for line in file:\n",
    "            line = line.rstrip(\"\\n\")\n",
    "            forest.append(line*(2*len(forest)))\n",
    "    return forest"
   ]
  },
  {
   "cell_type": "markdown",
   "metadata": {},
   "source": [
    "#### Part 1"
   ]
  },
  {
   "cell_type": "code",
   "execution_count": 2,
   "metadata": {},
   "outputs": [],
   "source": [
    "def count_encountered_trees(forest: list) -> int:\n",
    "    count, counter = 3, 0\n",
    "    for i in range(1, len(forest)):\n",
    "        if forest[i][i*count] == \"#\":\n",
    "            counter += 1\n",
    "    return counter"
   ]
  },
  {
   "cell_type": "code",
   "execution_count": 3,
   "metadata": {},
   "outputs": [
    {
     "name": "stdout",
     "output_type": "stream",
     "text": [
      "244\n"
     ]
    }
   ],
   "source": [
    "forest = load_data(\"input.txt\")\n",
    "answer = count_encountered_trees(forest)\n",
    "print(answer)"
   ]
  },
  {
   "cell_type": "markdown",
   "metadata": {},
   "source": [
    "#### Part 2"
   ]
  },
  {
   "cell_type": "code",
   "execution_count": 4,
   "metadata": {},
   "outputs": [],
   "source": [
    "def count_encountered_trees_other(forest: list, slopes: list) -> int:\n",
    "    counter = []\n",
    "    for right, down in slopes:\n",
    "        j = 0\n",
    "        count = 0\n",
    "        for i in range(1, len(forest), down):\n",
    "            j += right\n",
    "            if forest[i][j] == \"#\":\n",
    "                count += 1\n",
    "        counter.append(count)\n",
    "    return counter"
   ]
  },
  {
   "cell_type": "code",
   "execution_count": 5,
   "metadata": {},
   "outputs": [
    {
     "name": "stdout",
     "output_type": "stream",
     "text": [
      "9406609920\n"
     ]
    }
   ],
   "source": [
    "from math import prod\n",
    "slopes = [[1,1], [3,1], [5,1], [7,1], [1,2]]\n",
    "forest = load_data(\"input.txt\")\n",
    "answer = prod(count_encountered_trees_other(forest, slopes))\n",
    "print(answer)"
   ]
  }
 ],
 "metadata": {
  "kernelspec": {
   "display_name": "Python 3.9.13 ('AoC')",
   "language": "python",
   "name": "python3"
  },
  "language_info": {
   "codemirror_mode": {
    "name": "ipython",
    "version": 3
   },
   "file_extension": ".py",
   "mimetype": "text/x-python",
   "name": "python",
   "nbconvert_exporter": "python",
   "pygments_lexer": "ipython3",
   "version": "3.9.13"
  },
  "orig_nbformat": 4,
  "vscode": {
   "interpreter": {
    "hash": "99b8b259ecf060e1325605a5662f2662c95fc7cc17fc11e32a931e17a299fa8e"
   }
  }
 },
 "nbformat": 4,
 "nbformat_minor": 2
}
