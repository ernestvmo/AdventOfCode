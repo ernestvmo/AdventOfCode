{
 "cells": [
  {
   "cell_type": "markdown",
   "metadata": {},
   "source": [
    "### Advent of Code day 10"
   ]
  },
  {
   "cell_type": "markdown",
   "metadata": {},
   "source": [
    "#### Input"
   ]
  },
  {
   "cell_type": "code",
   "execution_count": 28,
   "metadata": {},
   "outputs": [],
   "source": [
    "with open('input.txt') as f:\n",
    "    lines = [line.strip() for line in f.readlines()]"
   ]
  },
  {
   "cell_type": "markdown",
   "metadata": {},
   "source": [
    "#### Task 1"
   ]
  },
  {
   "cell_type": "code",
   "execution_count": 29,
   "metadata": {},
   "outputs": [],
   "source": [
    "def is_closing_char(opening_char: str, closing_char: str):\n",
    "    if opening_char == '[' and closing_char == ']':\n",
    "        return True\n",
    "    elif opening_char == '(' and closing_char == ')':\n",
    "        return True\n",
    "    elif opening_char == '{' and closing_char == '}':\n",
    "        return True\n",
    "    elif opening_char == '<' and closing_char == '>':\n",
    "        return True\n",
    "    else:\n",
    "        return False"
   ]
  },
  {
   "cell_type": "code",
   "execution_count": 30,
   "metadata": {},
   "outputs": [],
   "source": [
    "def isclosing(char: str):\n",
    "    if char not in '[{(<':\n",
    "        return True\n",
    "    else:\n",
    "        return False"
   ]
  },
  {
   "cell_type": "code",
   "execution_count": 31,
   "metadata": {},
   "outputs": [],
   "source": [
    "def find_illegals(line):\n",
    "    leftovers = [line[0]]\n",
    "    illegal = []\n",
    "\n",
    "    for i in range(len(line)):\n",
    "        if i != 0:\n",
    "            leftovers.append(line[i])\n",
    "\n",
    "            current_char = leftovers[len(leftovers) - 1]\n",
    "            previous_char = leftovers[len(leftovers) - 2]\n",
    "\n",
    "            # print(f'{i} previous[{p}]: {previous_char}, current[{c}]: {current_char}')\n",
    "\n",
    "            if is_closing_char(previous_char, current_char):\n",
    "                # print(f\"this is a pair {previous_char} {current_char}\")\n",
    "                leftovers.pop()\n",
    "                leftovers.pop()\n",
    "            else:\n",
    "                if isclosing(current_char):\n",
    "                    # print(f'error {current_char} @ {i}')\n",
    "                    illegal.append(current_char)\n",
    "                    return current_char\n",
    "        # print(f'{i} {leftovers}')\n",
    "\n",
    "    return illegal"
   ]
  },
  {
   "cell_type": "code",
   "execution_count": 32,
   "metadata": {},
   "outputs": [],
   "source": [
    "def sum_illegals_characters_value(chars: list):\n",
    "    total = 0\n",
    "    for char in chars:\n",
    "        if char == ')':\n",
    "            total += 3\n",
    "        elif char == ']':\n",
    "            total += 57\n",
    "        elif char == '}':\n",
    "            total += 1197\n",
    "        elif char == '>':\n",
    "            total += 25137\n",
    "    return total"
   ]
  },
  {
   "cell_type": "code",
   "execution_count": 33,
   "metadata": {},
   "outputs": [
    {
     "name": "stdout",
     "output_type": "stream",
     "text": [
      "167379\n"
     ]
    }
   ],
   "source": [
    "illegals = []\n",
    "\n",
    "for line in lines:\n",
    "    illegals.append(find_illegals(line))\n",
    "    illegals = [elem for elem in illegals if type(elem) is str]\n",
    "print(sum_illegals_characters_value(illegals))"
   ]
  },
  {
   "cell_type": "markdown",
   "metadata": {},
   "source": [
    "#### Task 2"
   ]
  },
  {
   "cell_type": "code",
   "execution_count": 34,
   "metadata": {},
   "outputs": [],
   "source": [
    "def find_leftovers(line):\n",
    "    leftovers = [line[0]]\n",
    "    illegal = []\n",
    "\n",
    "    for i in range(len(line)):\n",
    "        if i != 0:\n",
    "            leftovers.append(line[i])\n",
    "            # print('----',leftovers)\n",
    "\n",
    "            current_char = leftovers[len(leftovers) - 1]\n",
    "            previous_char = leftovers[len(leftovers) - 2]\n",
    "\n",
    "            # print(f'{i} previous[{p}]: {previous_char}, current[{c}]: {current_char}')\n",
    "\n",
    "            if is_closing_char(previous_char, current_char):\n",
    "                # print(f\"this is a pair {previous_char} {current_char}\")\n",
    "                leftovers.pop()\n",
    "                leftovers.pop()\n",
    "            else:\n",
    "                if isclosing(current_char):\n",
    "                    # print(f'error {current_char} @ {i}')\n",
    "                    illegal.append(current_char)\n",
    "                    return None\n",
    "        # print(f'{i} {leftovers}')\n",
    "\n",
    "    return leftovers"
   ]
  },
  {
   "cell_type": "code",
   "execution_count": 35,
   "metadata": {},
   "outputs": [],
   "source": [
    "def get_autocomplete(leftovers_chars: list):\n",
    "    autocomplete = ''\n",
    "    for char in reversed(leftovers_chars):\n",
    "        if char == '(':\n",
    "            autocomplete += ')'\n",
    "        elif char == '[':\n",
    "            autocomplete += ']'\n",
    "        elif char == '{':\n",
    "            autocomplete += '}'\n",
    "        elif char == '<':\n",
    "            autocomplete += '>'\n",
    "    return autocomplete"
   ]
  },
  {
   "cell_type": "code",
   "execution_count": 36,
   "metadata": {},
   "outputs": [],
   "source": [
    "def sum_autocompletion(leftovers_chars: list):\n",
    "    sums = []\n",
    "    leftovers_chars\n",
    "    for leftover_sequence in leftovers_chars:\n",
    "        autocomplete = get_autocomplete(leftover_sequence)\n",
    "        total = 0\n",
    "        # print(autocomplete)\n",
    "        for char in autocomplete:\n",
    "            if char == ')':\n",
    "                char_value = 1\n",
    "            elif char == ']':\n",
    "                char_value = 2\n",
    "            elif char == '}':\n",
    "                char_value = 3\n",
    "            elif char == '>':\n",
    "                char_value = 4\n",
    "\n",
    "            total *= 5\n",
    "            total += char_value\n",
    "        sums.append(total)\n",
    "    return sums\n",
    "        "
   ]
  },
  {
   "cell_type": "code",
   "execution_count": 37,
   "metadata": {},
   "outputs": [
    {
     "name": "stdout",
     "output_type": "stream",
     "text": [
      "2776842859\n"
     ]
    }
   ],
   "source": [
    "leftovers = []\n",
    "scores = []\n",
    "\n",
    "for line in lines:\n",
    "    leftovers.append(find_leftovers(line))\n",
    "    leftovers = [''.join(char) for char in leftovers if char is not None]\n",
    "scores = sum_autocompletion(leftovers)\n",
    "print(sorted(scores)[len(scores) // 2])"
   ]
  }
 ],
 "metadata": {
  "interpreter": {
   "hash": "aee8b7b246df8f9039afb4144a1f6fd8d2ca17a180786b69acc140d282b71a49"
  },
  "kernelspec": {
   "display_name": "Python 3.9.4 64-bit",
   "language": "python",
   "name": "python3"
  },
  "language_info": {
   "codemirror_mode": {
    "name": "ipython",
    "version": 3
   },
   "file_extension": ".py",
   "mimetype": "text/x-python",
   "name": "python",
   "nbconvert_exporter": "python",
   "pygments_lexer": "ipython3",
   "version": "3.9.4"
  },
  "orig_nbformat": 4
 },
 "nbformat": 4,
 "nbformat_minor": 2
}
