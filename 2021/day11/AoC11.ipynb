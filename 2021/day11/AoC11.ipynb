{
 "cells": [
  {
   "cell_type": "markdown",
   "metadata": {},
   "source": [
    "### Advent of Code Day 11"
   ]
  },
  {
   "cell_type": "code",
   "execution_count": 795,
   "metadata": {},
   "outputs": [],
   "source": [
    "import numpy as np"
   ]
  },
  {
   "cell_type": "markdown",
   "metadata": {},
   "source": [
    "#### Input"
   ]
  },
  {
   "cell_type": "code",
   "execution_count": 796,
   "metadata": {},
   "outputs": [],
   "source": [
    "with open('input.txt') as f:\n",
    "    lines = [line.strip() for line in f.readlines()]\n",
    "for i in range(len(lines)):\n",
    "    lines[i] = [int(elem) for elem in lines[i]]"
   ]
  },
  {
   "cell_type": "markdown",
   "metadata": {},
   "source": [
    "#### Task 1"
   ]
  },
  {
   "cell_type": "code",
   "execution_count": 797,
   "metadata": {},
   "outputs": [],
   "source": [
    "def get_adjacent(grid, point):\n",
    "    x, y = point\n",
    "    neighbours = []\n",
    "    \n",
    "    for r in [-1, 0, 1]:\n",
    "        for c in [-1, 0, 1]:\n",
    "            if r == c == 0:\n",
    "                continue\n",
    "            if 0 <= x + r < len(grid) and 0 <= y + c < len(grid[0]):\n",
    "                neighbours.append([x + r, y + c])\n",
    "\n",
    "    return neighbours"
   ]
  },
  {
   "cell_type": "code",
   "execution_count": 798,
   "metadata": {},
   "outputs": [],
   "source": [
    "def flash_neighbours(grid, point):\n",
    "    neighbours = [n for n in get_adjacent(grid, point) if n is not None and grid[n[0]][n[1]] != 0]\n",
    "    for n in neighbours:\n",
    "        grid[n[0]][n[1]] += 1"
   ]
  },
  {
   "cell_type": "code",
   "execution_count": 799,
   "metadata": {},
   "outputs": [],
   "source": [
    "def increase_octopus(grid: list):\n",
    "    for r in range(len(grid)):\n",
    "        for c in range(len(grid)):\n",
    "            grid[r][c] += 1\n",
    "\n",
    "    return illuminations(grid)"
   ]
  },
  {
   "cell_type": "code",
   "execution_count": 800,
   "metadata": {},
   "outputs": [],
   "source": [
    "def illuminations(grid: list):\n",
    "    flashing_octopus = []\n",
    "    changed = False\n",
    "    flash_counter = 0\n",
    "\n",
    "    for r in range(len(grid)):\n",
    "        for c in range(len(grid[r])):\n",
    "            if grid[r][c] > 9:\n",
    "                flashing_octopus.append((r,c))\n",
    "                grid[r][c] = 0\n",
    "                changed = True\n",
    "                flash_counter += 1\n",
    "\n",
    "    if changed:\n",
    "        for p in flashing_octopus:\n",
    "            flash_neighbours(grid, p)\n",
    "        return (flash_counter + illuminations(grid, ))\n",
    "    else:\n",
    "        return flash_counter"
   ]
  },
  {
   "cell_type": "code",
   "execution_count": 801,
   "metadata": {},
   "outputs": [],
   "source": [
    "def illuminations_after_steps(grid, steps=2):\n",
    "    total = 0\n",
    "    for _ in range(steps):\n",
    "        total += increase_octopus(grid)\n",
    "        if all_flashing(grid):\n",
    "            print(_, grid)\n",
    "        \n",
    "    return total"
   ]
  },
  {
   "cell_type": "code",
   "execution_count": 802,
   "metadata": {},
   "outputs": [],
   "source": [
    "# print(illuminations_after_steps(lines, 100))"
   ]
  },
  {
   "cell_type": "markdown",
   "metadata": {},
   "source": [
    "#### Task 2"
   ]
  },
  {
   "cell_type": "code",
   "execution_count": 803,
   "metadata": {},
   "outputs": [],
   "source": [
    "def all_flashing(grid: list):\n",
    "    for row in grid:\n",
    "        for cell in row:\n",
    "            if cell != 0:\n",
    "                return False\n",
    "    return True"
   ]
  },
  {
   "cell_type": "code",
   "execution_count": 804,
   "metadata": {},
   "outputs": [],
   "source": [
    "def find_all_flashing(grid):\n",
    "    count = 0\n",
    "    all_oct_flashing = False\n",
    "\n",
    "    while not all_oct_flashing:\n",
    "        increase_octopus(grid)\n",
    "        all_oct_flashing = all_flashing(grid)\n",
    "        count += 1\n",
    "    return count\n"
   ]
  },
  {
   "cell_type": "code",
   "execution_count": 805,
   "metadata": {},
   "outputs": [
    {
     "name": "stdout",
     "output_type": "stream",
     "text": [
      "235\n"
     ]
    }
   ],
   "source": [
    "print(find_all_flashing(lines))"
   ]
  }
 ],
 "metadata": {
  "interpreter": {
   "hash": "aee8b7b246df8f9039afb4144a1f6fd8d2ca17a180786b69acc140d282b71a49"
  },
  "kernelspec": {
   "display_name": "Python 3.9.4 64-bit",
   "language": "python",
   "name": "python3"
  },
  "language_info": {
   "codemirror_mode": {
    "name": "ipython",
    "version": 3
   },
   "file_extension": ".py",
   "mimetype": "text/x-python",
   "name": "python",
   "nbconvert_exporter": "python",
   "pygments_lexer": "ipython3",
   "version": "3.9.4"
  },
  "orig_nbformat": 4
 },
 "nbformat": 4,
 "nbformat_minor": 2
}
