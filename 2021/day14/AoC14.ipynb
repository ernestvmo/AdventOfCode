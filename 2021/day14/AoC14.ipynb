{
 "cells": [
  {
   "cell_type": "code",
   "execution_count": 12,
   "metadata": {},
   "outputs": [],
   "source": [
    "import numpy as np"
   ]
  },
  {
   "cell_type": "code",
   "execution_count": 13,
   "metadata": {},
   "outputs": [],
   "source": [
    "with open('test.txt', 'r') as file:\n",
    "    cave = [[int(case) for case in line.rstrip('\\n')] for line in file]\n",
    "    cave = np.array(cave)"
   ]
  },
  {
   "cell_type": "code",
   "execution_count": 14,
   "metadata": {},
   "outputs": [
    {
     "name": "stdout",
     "output_type": "stream",
     "text": [
      "[[1 1 6 3 7 5 1 7 4 2]\n",
      " [1 3 8 1 3 7 3 6 7 2]\n",
      " [2 1 3 6 5 1 1 3 2 8]\n",
      " [3 6 9 4 9 3 1 5 6 9]\n",
      " [7 4 6 3 4 1 7 1 1 1]\n",
      " [1 3 1 9 1 2 8 1 3 7]\n",
      " [1 3 5 9 9 1 2 4 2 1]\n",
      " [3 1 2 5 4 2 1 6 3 9]\n",
      " [1 2 9 3 1 3 8 5 2 1]\n",
      " [2 3 1 1 9 4 4 5 8 1]]\n"
     ]
    }
   ],
   "source": [
    "print(cave)"
   ]
  },
  {
   "cell_type": "code",
   "execution_count": 20,
   "metadata": {},
   "outputs": [],
   "source": [
    "start = (0,0)\n",
    "end = (cave.shape[0] - 1, cave.shape[1] - 1)\n",
    "\n",
    "while (current_point != end):"
   ]
  }
 ],
 "metadata": {
  "kernelspec": {
   "display_name": "Python 3.9.13 ('AoC')",
   "language": "python",
   "name": "python3"
  },
  "language_info": {
   "codemirror_mode": {
    "name": "ipython",
    "version": 3
   },
   "file_extension": ".py",
   "mimetype": "text/x-python",
   "name": "python",
   "nbconvert_exporter": "python",
   "pygments_lexer": "ipython3",
   "version": "3.9.13"
  },
  "orig_nbformat": 4,
  "vscode": {
   "interpreter": {
    "hash": "99b8b259ecf060e1325605a5662f2662c95fc7cc17fc11e32a931e17a299fa8e"
   }
  }
 },
 "nbformat": 4,
 "nbformat_minor": 2
}
