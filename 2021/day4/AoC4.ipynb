{
 "cells": [
  {
   "cell_type": "markdown",
   "metadata": {},
   "source": [
    "### Advent of Code Day 4"
   ]
  },
  {
   "cell_type": "code",
   "execution_count": null,
   "metadata": {},
   "outputs": [],
   "source": [
    "import numpy as np"
   ]
  },
  {
   "cell_type": "markdown",
   "metadata": {},
   "source": [
    "#### Input"
   ]
  },
  {
   "cell_type": "code",
   "execution_count": 17,
   "metadata": {},
   "outputs": [],
   "source": [
    "# prepare boards\n",
    "with open('input.txt') as f:\n",
    "    lines = f.readlines()\n",
    "bingo_numbers = lines[0].strip().split(',')\n",
    "blocks_index = []\n",
    "for i in range(0,len(lines)):\n",
    "    if lines[i] == '\\n':\n",
    "        blocks_index.append(i+1)\n",
    "\n",
    "bingo_boards = []\n",
    "for b in blocks_index:\n",
    "    # lower_bound = b+5 if b+5 < len(lines) else ...\n",
    "    if b+5 < len(lines):\n",
    "        bingo_boards.append(lines[b:b+5])\n",
    "    else:\n",
    "        bingo_boards.append(lines[b:])\n",
    "for i in range(len(bingo_boards)):\n",
    "    for j in range(len(bingo_boards[i])):\n",
    "        bingo_boards[i][j] = bingo_boards[i][j].strip().replace('  ', ' ').split(' ')"
   ]
  },
  {
   "cell_type": "markdown",
   "metadata": {},
   "source": [
    "#### Task 1"
   ]
  },
  {
   "cell_type": "code",
   "execution_count": 18,
   "metadata": {},
   "outputs": [],
   "source": [
    "def board_search(board, num):\n",
    "    for i in range(len(board)):\n",
    "        for j in range(len(board[i])):\n",
    "            if board[i][j] == num:\n",
    "                return i,j\n",
    "    return None"
   ]
  },
  {
   "cell_type": "code",
   "execution_count": 19,
   "metadata": {},
   "outputs": [],
   "source": [
    "def check_board_completion(board):\n",
    "    # check rows\n",
    "    for row in board:\n",
    "        # print(type(row))\n",
    "        if '-1' not in row:\n",
    "            return True\n",
    "\n",
    "    for col in range(len(board[0])):\n",
    "        if '-1' not in board[:, col]:\n",
    "            return True\n",
    "    return False"
   ]
  },
  {
   "cell_type": "code",
   "execution_count": 20,
   "metadata": {},
   "outputs": [],
   "source": [
    "def find_winning_board(boards: list, bingo_nums):\n",
    "    mirror_boards = [np.full([5,5], '-1') for _ in range(len(boards))]\n",
    "\n",
    "    for number in bingo_nums:\n",
    "        for board_index in range(len(boards)):\n",
    "            coords = board_search(boards[board_index], number)\n",
    "            if coords is not None:\n",
    "                r,c = coords\n",
    "                mirror_boards[board_index][r][c] = number\n",
    "\n",
    "            if check_board_completion(mirror_boards[board_index]):\n",
    "                return boards[board_index], mirror_boards[board_index], number"
   ]
  },
  {
   "cell_type": "code",
   "execution_count": 21,
   "metadata": {},
   "outputs": [],
   "source": [
    "def sum_board(board: list, m_board: list):\n",
    "    total = 0 \n",
    "    for row, row_m in zip(board, m_board):\n",
    "        for cell, cell_m in zip(row, row_m): \n",
    "            if cell_m == '-1':\n",
    "                total += int(cell)\n",
    "    return total"
   ]
  },
  {
   "cell_type": "code",
   "execution_count": 22,
   "metadata": {},
   "outputs": [],
   "source": [
    "winning_board, mirror_board, last_bingo_num = find_winning_board(bingo_boards, bingo_numbers)"
   ]
  },
  {
   "cell_type": "code",
   "execution_count": 23,
   "metadata": {},
   "outputs": [
    {
     "name": "stdout",
     "output_type": "stream",
     "text": [
      "6592\n"
     ]
    }
   ],
   "source": [
    "print(sum_board(winning_board, mirror_board) * int(last_bingo_num))"
   ]
  },
  {
   "cell_type": "markdown",
   "metadata": {},
   "source": [
    "#### Task 2"
   ]
  },
  {
   "cell_type": "code",
   "execution_count": 24,
   "metadata": {},
   "outputs": [],
   "source": [
    "def find_last_winning_board(boards: list, bingo_nums):\n",
    "    find_last = bingo_boards[:]\n",
    "    while len(find_last) > 0:\n",
    "        completed_board, completed_mirror, completed_bingo_number = find_winning_board(find_last, bingo_numbers)\n",
    "        find_last.remove(completed_board)\n",
    "    return sum_board(completed_board, completed_mirror) * int(completed_bingo_number)"
   ]
  },
  {
   "cell_type": "code",
   "execution_count": 25,
   "metadata": {},
   "outputs": [
    {
     "name": "stdout",
     "output_type": "stream",
     "text": [
      "31755\n"
     ]
    }
   ],
   "source": [
    "print(find_last_winning_board(bingo_boards, bingo_numbers))"
   ]
  }
 ],
 "metadata": {
  "interpreter": {
   "hash": "482e7c184dd3b3c99c3e0d506e6d81eb0bca54ca41bbe4d0f8e487b4d85d71d1"
  },
  "kernelspec": {
   "display_name": "Python 3.8.8 64-bit ('base': conda)",
   "language": "python",
   "name": "python3"
  },
  "language_info": {
   "codemirror_mode": {
    "name": "ipython",
    "version": 3
   },
   "file_extension": ".py",
   "mimetype": "text/x-python",
   "name": "python",
   "nbconvert_exporter": "python",
   "pygments_lexer": "ipython3",
   "version": "3.9.4"
  },
  "orig_nbformat": 4
 },
 "nbformat": 4,
 "nbformat_minor": 2
}
