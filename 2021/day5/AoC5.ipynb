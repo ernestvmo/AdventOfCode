{
 "cells": [
  {
   "cell_type": "markdown",
   "metadata": {},
   "source": [
    "### Advent of Code Day 5"
   ]
  },
  {
   "cell_type": "code",
   "execution_count": 1,
   "metadata": {},
   "outputs": [],
   "source": [
    "import numpy as np"
   ]
  },
  {
   "cell_type": "markdown",
   "metadata": {},
   "source": [
    "#### Input"
   ]
  },
  {
   "cell_type": "code",
   "execution_count": 2,
   "metadata": {},
   "outputs": [],
   "source": [
    "with open('input.txt') as f:\n",
    "    f_lines = f.readlines()\n",
    "    \n",
    "p1s, p2s = [], []\n",
    "lines = []\n",
    "\n",
    "for l in f_lines:\n",
    "    p1, p2 = l.strip().split(' -> ')\n",
    "\n",
    "    x1,y1 = p1.split(',')\n",
    "    x2,y2 = p2.split(',')\n",
    "    \n",
    "    if [[x1,y1], [x2,y2]] not in lines:\n",
    "        lines.append([[x1,y1], [x2,y2]])"
   ]
  },
  {
   "cell_type": "markdown",
   "metadata": {},
   "source": [
    "#### Task 1"
   ]
  },
  {
   "cell_type": "code",
   "execution_count": 3,
   "metadata": {},
   "outputs": [],
   "source": [
    "def onlykeep_vertical_horizontal(inputs: list):\n",
    "    tokeep = []\n",
    "    for line in inputs:\n",
    "        if line[0][0] == line[1][0] or line[0][1] == line[1][1]:\n",
    "            tokeep.append(line)\n",
    "    return tokeep\n",
    "\n",
    "\n",
    "def generate_all_line_points(lines: list):\n",
    "    points = [[] for _ in range(len(lines))]\n",
    "    for i in range(len(lines)):\n",
    "        p1 = lines[i][0]\n",
    "        p2 = lines[i][1]\n",
    "\n",
    "        x1, y1 = p1\n",
    "        x1, y1 = int(x1), int(y1)\n",
    "\n",
    "        x2, y2 = p2\n",
    "        x2, y2 = int(x2), int(y2)\n",
    "\n",
    "        m = (y2 - y1) / (x2 - x1) if x2 != x1 else 0\n",
    "        b = y1 - m * x1\n",
    "\n",
    "        points[i].append([min(x1, x2), min(y1, y2)])\n",
    "        for x in range(min(x1, x2) +1, max(x1, x2)):\n",
    "            y = m*x + b\n",
    "            points[i].append([int(x),int(y)])\n",
    "        for y in range(min(y1, y2) + 1, max(y1, y2)):\n",
    "            x = (y - b) / m if x2 != x1 else x1\n",
    "            point = [int(x), int(y)]\n",
    "            if point not in points[i]:\n",
    "                points[i].append(point)\n",
    "        points[i].append([max(x1, x2), max(y1, y2)])\n",
    "\n",
    "    return points\n",
    "\n",
    "\n",
    "def count_overlaps(grid):\n",
    "    count = 0\n",
    "    for row in grid:\n",
    "        for cell in row:\n",
    "            if cell != '.' and int(cell) > 1:\n",
    "                count += 1\n",
    "    return count\n",
    "\n",
    "\n",
    "def make_grid(points):\n",
    "    max_x, max_y = 0, 0\n",
    "    for line in points:\n",
    "        for point in line:\n",
    "            if max_x < point[0]:\n",
    "                max_x = point[0]\n",
    "            if max_y < point[1]:\n",
    "                max_y = point[1]\n",
    "\n",
    "    grid = np.full([max_x + 1, max_y + 1], '.') \n",
    "    for line in points:\n",
    "        for point in line:\n",
    "            if grid[point[1]][point[0]] == '.':\n",
    "                grid[point[1]][point[0]] = 1\n",
    "            else:\n",
    "                grid[point[1]][point[0]] = 1 + int(grid[point[1]][point[0]])\n",
    "\n",
    "    return count_overlaps(grid)"
   ]
  },
  {
   "cell_type": "code",
   "execution_count": 4,
   "metadata": {},
   "outputs": [
    {
     "name": "stdout",
     "output_type": "stream",
     "text": [
      "6005\n"
     ]
    }
   ],
   "source": [
    "print(make_grid(generate_all_line_points(onlykeep_vertical_horizontal(lines))))"
   ]
  },
  {
   "cell_type": "markdown",
   "metadata": {},
   "source": [
    "#### Task 2"
   ]
  },
  {
   "cell_type": "code",
   "execution_count": 5,
   "metadata": {},
   "outputs": [],
   "source": [
    "def generate_all_line_points_diagonal(lines: list):\n",
    "    points = [[] for _ in range(len(lines))]\n",
    "    for i in range(len(lines)):\n",
    "        p1 = lines[i][0]\n",
    "        p2 = lines[i][1]\n",
    "\n",
    "        x1, y1 = p1\n",
    "        x1, y1 = int(x1), int(y1)\n",
    "\n",
    "        x2, y2 = p2\n",
    "        x2, y2 = int(x2), int(y2)\n",
    "\n",
    "        m = (y2 - y1) / (x2 - x1) if x2 != x1 else 0\n",
    "        b = y1 - m * x1\n",
    "\n",
    "        if x1 < x2:\n",
    "            for x in np.arange(x1, x2, step=1):\n",
    "                y = m*x + b\n",
    "                points[i].append([int(x),int(y)])\n",
    "            points[i].append([x2, y2])\n",
    "        if x1 > x2:\n",
    "            for x in np.arange(x1, x2, step=-1):\n",
    "                y = m*x + b\n",
    "                points[i].append([int(x),int(y)])\n",
    "            points[i].append([x2, y2])\n",
    "        if x1 == x2:\n",
    "            if y1 < y2:\n",
    "                for y in np.arange(y1, y2 + 1, step=1):\n",
    "                    x = (y - b) / m if x2 != x1 else x1\n",
    "                    point = [int(x1), int(y)]\n",
    "                    if point not in points[i]:\n",
    "                        points[i].append(point)\n",
    "            if y1 > y2:\n",
    "                for y in np.arange(y1, y2 - 1, step=-1):\n",
    "                    x = (y - b) / m if x2 != x1 else x1\n",
    "                    point = [int(x), int(y)]\n",
    "                    if point not in points[i]:\n",
    "                        points[i].append(point)\n",
    "\n",
    "    return points\n",
    "\n",
    "\n",
    "def count_overlaps(grid):\n",
    "    count = 0\n",
    "    for row in grid:\n",
    "        for cell in row:\n",
    "            if cell != '.' and int(cell) > 1:\n",
    "                count += 1\n",
    "    return count\n",
    "\n",
    "\n",
    "def make_grid(points):\n",
    "    max_x, max_y = 0, 0\n",
    "    for line in points:\n",
    "        for point in line:\n",
    "            if max_x < point[0]:\n",
    "                max_x = point[0]\n",
    "            if max_y < point[1]:\n",
    "                max_y = point[1]\n",
    "\n",
    "    grid = np.full([max_x + 1, max_y + 1], '.') \n",
    "    for line in points:\n",
    "        for point in line:\n",
    "            if grid[point[1]][point[0]] == '.':\n",
    "                grid[point[1]][point[0]] = 1\n",
    "            else:\n",
    "                grid[point[1]][point[0]] = 1 + int(grid[point[1]][point[0]])\n",
    "\n",
    "    return count_overlaps(grid)"
   ]
  },
  {
   "cell_type": "code",
   "execution_count": 6,
   "metadata": {},
   "outputs": [
    {
     "name": "stdout",
     "output_type": "stream",
     "text": [
      "23864\n"
     ]
    }
   ],
   "source": [
    "print(make_grid(generate_all_line_points_diagonal(lines)))"
   ]
  }
 ],
 "metadata": {
  "interpreter": {
   "hash": "482e7c184dd3b3c99c3e0d506e6d81eb0bca54ca41bbe4d0f8e487b4d85d71d1"
  },
  "kernelspec": {
   "display_name": "Python 3.8.8 64-bit ('base': conda)",
   "language": "python",
   "name": "python3"
  },
  "language_info": {
   "codemirror_mode": {
    "name": "ipython",
    "version": 3
   },
   "file_extension": ".py",
   "mimetype": "text/x-python",
   "name": "python",
   "nbconvert_exporter": "python",
   "pygments_lexer": "ipython3",
   "version": "3.8.8"
  },
  "orig_nbformat": 4
 },
 "nbformat": 4,
 "nbformat_minor": 2
}
