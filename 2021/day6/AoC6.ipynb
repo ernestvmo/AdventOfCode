{
 "cells": [
  {
   "cell_type": "markdown",
   "metadata": {},
   "source": [
    "### Advent of Code Day 6"
   ]
  },
  {
   "cell_type": "markdown",
   "metadata": {},
   "source": [
    "#### Input"
   ]
  },
  {
   "cell_type": "code",
   "execution_count": 10,
   "metadata": {},
   "outputs": [],
   "source": [
    "inputs = []\n",
    "fishes_initial_state = []\n",
    "\n",
    "for l in open('input.txt'):\n",
    "    inputs = l.strip()\n",
    "for i in inputs.split(','):\n",
    "    fishes_initial_state.append(int(i))"
   ]
  },
  {
   "cell_type": "markdown",
   "metadata": {},
   "source": [
    "#### Task 1"
   ]
  },
  {
   "cell_type": "code",
   "execution_count": 40,
   "metadata": {},
   "outputs": [],
   "source": [
    "def count_fishes_after_days(initial_state: list, days: int, verbose=False):\n",
    "    fishes = initial_state[:]\n",
    "    # print(f'Initial state: {fishes}')\n",
    "    for d in range(1, days + 1):\n",
    "        for i in range(len(fishes)):\n",
    "            fishes[i] -= 1\n",
    "            if fishes[i] == -1:\n",
    "                fishes[i] = 6\n",
    "                fishes.append(8)\n",
    "        # print(f'After\\t{d} days: {fishes}')\n",
    "        if d % 10 == 0 and verbose:\n",
    "            print(d)\n",
    "    return len(fishes)"
   ]
  },
  {
   "cell_type": "code",
   "execution_count": 41,
   "metadata": {},
   "outputs": [
    {
     "data": {
      "text/plain": [
       "349549"
      ]
     },
     "execution_count": 41,
     "metadata": {},
     "output_type": "execute_result"
    }
   ],
   "source": [
    "count_fishes_after_days(fishes_initial_state, 80)"
   ]
  },
  {
   "cell_type": "markdown",
   "metadata": {},
   "source": [
    "#### Task 2"
   ]
  },
  {
   "cell_type": "code",
   "execution_count": 11,
   "metadata": {},
   "outputs": [],
   "source": [
    "def count_fishes_after_days_other(initial_state: list, days: int, verbose=False):\n",
    "    total = 0\n",
    "    current_states = {\n",
    "        0: initial_state.count(0),\n",
    "        1: initial_state.count(1),\n",
    "        2: initial_state.count(2),\n",
    "        3: initial_state.count(3),\n",
    "        4: initial_state.count(4),\n",
    "        5: initial_state.count(5),\n",
    "        6: initial_state.count(6),\n",
    "        7: initial_state.count(7),\n",
    "        8: initial_state.count(8),\n",
    "    }\n",
    "\n",
    "    for d in range(1, days + 1):\n",
    "        next_state = {\n",
    "            0: current_states[1],\n",
    "            1: current_states[2],\n",
    "            2: current_states[3],\n",
    "            3: current_states[4],\n",
    "            4: current_states[5],\n",
    "            5: current_states[6],\n",
    "            6: current_states[7],\n",
    "            7: current_states[8],\n",
    "            8: current_states[0],\n",
    "        }\n",
    "\n",
    "        if current_states[0] > 0:\n",
    "            next_state[6] += current_states[0]\n",
    "\n",
    "        current_states = next_state\n",
    "        next_state = {}\n",
    "\n",
    "    for fish in current_states:\n",
    "        total += current_states[fish]\n",
    "    \n",
    "    return total\n",
    "        "
   ]
  },
  {
   "cell_type": "code",
   "execution_count": 12,
   "metadata": {},
   "outputs": [
    {
     "data": {
      "text/plain": [
       "1589590444365"
      ]
     },
     "execution_count": 12,
     "metadata": {},
     "output_type": "execute_result"
    }
   ],
   "source": [
    "count_fishes_after_days_other(fishes_initial_state, 256 , True)"
   ]
  }
 ],
 "metadata": {
  "interpreter": {
   "hash": "482e7c184dd3b3c99c3e0d506e6d81eb0bca54ca41bbe4d0f8e487b4d85d71d1"
  },
  "kernelspec": {
   "display_name": "Python 3.8.8 64-bit ('base': conda)",
   "language": "python",
   "name": "python3"
  },
  "language_info": {
   "codemirror_mode": {
    "name": "ipython",
    "version": 3
   },
   "file_extension": ".py",
   "mimetype": "text/x-python",
   "name": "python",
   "nbconvert_exporter": "python",
   "pygments_lexer": "ipython3",
   "version": "3.8.8"
  },
  "orig_nbformat": 4
 },
 "nbformat": 4,
 "nbformat_minor": 2
}
