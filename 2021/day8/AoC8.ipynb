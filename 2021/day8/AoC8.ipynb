{
 "cells": [
  {
   "cell_type": "markdown",
   "metadata": {},
   "source": [
    "### Advent of Code Day 8"
   ]
  },
  {
   "cell_type": "markdown",
   "metadata": {},
   "source": [
    "#### Input"
   ]
  },
  {
   "cell_type": "code",
   "execution_count": 156,
   "metadata": {},
   "outputs": [],
   "source": [
    "with open('test.txt') as f:\n",
    "    lines = f.readlines()\n",
    "    # lines = f.readline()"
   ]
  },
  {
   "cell_type": "code",
   "execution_count": 157,
   "metadata": {},
   "outputs": [],
   "source": [
    "signal_patterns, signal_outputs = [], []\n",
    "\n",
    "for line in lines:\n",
    "    line = line.strip()\n",
    "    signal_pattern, signal_output = line.split(' | ')\n",
    "    signal_patterns.append([''.join(sorted(pattern)) for pattern in signal_pattern.split(' ')])\n",
    "    signal_outputs.append([''.join(sorted(pattern)) for pattern in signal_output.split(' ')])"
   ]
  },
  {
   "cell_type": "code",
   "execution_count": 158,
   "metadata": {},
   "outputs": [
    {
     "name": "stdout",
     "output_type": "stream",
     "text": [
      "['be', 'abcdefg', 'bcdefg', 'acdefg', 'bceg', 'cdefg', 'abdefg', 'bcdef', 'abcdf', 'bde']\n",
      "['abcdefg', 'bcdef', 'bcdefg', 'bceg']\n"
     ]
    }
   ],
   "source": [
    "print(signal_patterns[0])\n",
    "print(signal_outputs[0])"
   ]
  },
  {
   "cell_type": "markdown",
   "metadata": {},
   "source": [
    "#### Task 1"
   ]
  },
  {
   "cell_type": "code",
   "execution_count": 159,
   "metadata": {},
   "outputs": [],
   "source": [
    "def draw_digit(sequence: str):\n",
    "    digit = ''\n",
    "    # a\n",
    "    digit += ' ' + ('a'*4 if 'a' in sequence else '.'*4) + ' \\n'\n",
    "    # b and c\n",
    "    digit += ('b' if 'b' in sequence else '.') + ' '*4 + ('c' if 'c' in sequence else '.') + '\\n'\n",
    "    digit += ('b' if 'b' in sequence else '.') + ' '*4 + ('c' if 'c' in sequence else '.') + '\\n'\n",
    "    # d\n",
    "    digit += ' ' + ('d'*4 if 'd' in sequence else '.'*4) + ' \\n'\n",
    "    # e and f\n",
    "    digit += ('e' if 'e' in sequence else '.') + ' '*4 + ('f' if 'f' in sequence else '.') + '\\n'\n",
    "    digit += ('e' if 'e' in sequence else '.') + ' '*4 + ('f' if 'f' in sequence else '.') + '\\n'\n",
    "    # g\n",
    "    digit += ' ' + ('g'*4 if 'g' in sequence else '.'*4) + ' '\n",
    "\n",
    "    return digit"
   ]
  },
  {
   "cell_type": "code",
   "execution_count": 160,
   "metadata": {},
   "outputs": [],
   "source": [
    "def find_digit(segments: int):\n",
    "    if segments == 2:\n",
    "        return ['1']\n",
    "    elif segments == 3:\n",
    "        return ['7']\n",
    "    elif segments == 4:\n",
    "        return ['4']\n",
    "    elif segments == 5:\n",
    "        return ['2', '3', '5']\n",
    "    elif segments == 6:\n",
    "        return ['0', '6', '9']\n",
    "    elif segments == 7:\n",
    "        return ['8']"
   ]
  },
  {
   "cell_type": "code",
   "execution_count": 161,
   "metadata": {},
   "outputs": [],
   "source": [
    "def count_appearances(output_signal: list):\n",
    "    count = 0\n",
    "    for output in output_signal:\n",
    "        for signal in output:\n",
    "            possibilities = find_digit(len(signal))\n",
    "            if len(possibilities) == 1:\n",
    "                count += 1\n",
    "    return count"
   ]
  },
  {
   "cell_type": "code",
   "execution_count": 162,
   "metadata": {},
   "outputs": [
    {
     "name": "stdout",
     "output_type": "stream",
     "text": [
      "26\n"
     ]
    }
   ],
   "source": [
    "print(count_appearances(signal_outputs))"
   ]
  },
  {
   "cell_type": "markdown",
   "metadata": {},
   "source": [
    "#### Task 2"
   ]
  },
  {
   "cell_type": "markdown",
   "metadata": {},
   "source": [
    "0 = 6 segments <br>\n",
    "1 = 2 segments<br>\n",
    "2 = 5 segments<br>\n",
    "3 = 5 segments<br>\n",
    "4 = 4 segments<br>\n",
    "5 = 5 segments<br>\n",
    "6 = 6 segments<br>\n",
    "7 = 3 segments<br>\n",
    "8 = 7 segments<br>\n",
    "9 = 6 segments"
   ]
  },
  {
   "cell_type": "code",
   "execution_count": 163,
   "metadata": {},
   "outputs": [],
   "source": [
    "def seven_minus_ones(seven, one):\n",
    "    return [elem for elem in list(seven) if elem not in list(one)][0], list(one), list(one)\n",
    "\n",
    "def four_minus_ones(four, one):\n",
    "    return [elem for elem in list(four) if elem not in list(one)]\n",
    "\n",
    "def find_unique(digits: list):\n",
    "    combined_digits = []\n",
    "    \n",
    "    for elem in digits:\n",
    "        print(elem)\n",
    "\n",
    "def find_common_chars_list(digits: list):\n",
    "    shared = []\n",
    "    for d in digits:\n",
    "        shared += list(d)\n",
    "    shared = {i:0 for i in list(set(shared))}\n",
    "    for d in digits:\n",
    "        for x in d:\n",
    "            shared[x] += 1\n",
    "    return [elem for elem, v in shared.items() if v == shared.get(max(shared, key=shared.get))]\n",
    "\n",
    "def find_zero_nine(digit1, digit2, four):\n",
    "    diff = []\n",
    "    diff.append([elem for elem in digit1 if elem not in digit2][0])\n",
    "    diff.append([elem for elem in digit2 if elem not in digit1][0])\n",
    "\n",
    "    if diff[0] in list(four):\n",
    "        return diff[0], diff[1]\n",
    "    if diff[1] in list(four):\n",
    "        return diff[1], diff[0]\n",
    "\n",
    "def find_two_five(digits, four):\n",
    "    diff = []\n",
    "\n",
    "    # print('com', find_common_chars_list(digits))\n",
    "\n",
    "    for d in find_common_chars_list(digits):\n",
    "        if d not in diff:\n",
    "            diff.append(d)\n",
    "\n",
    "    if diff[0] in list(four):\n",
    "        return diff[0], diff[1]\n",
    "    if diff[1] in list(four):\n",
    "        return diff[1], diff[0]\n",
    "\n",
    "\n",
    "    "
   ]
  },
  {
   "cell_type": "code",
   "execution_count": 194,
   "metadata": {},
   "outputs": [],
   "source": [
    "def reroute_signal_segments(signal: list, correct_segments: dict):\n",
    "    correct_output = ''\n",
    "    print('assumptions', correct_segments)\n",
    "    for digit in signal:\n",
    "        if len(digit) == 2:\n",
    "            correct_output += '1'\n",
    "        elif len(digit) == 3:\n",
    "            correct_output += '7'\n",
    "        elif len(digit) == 4:\n",
    "            correct_output += '4'\n",
    "        elif len(digit) == 5:\n",
    "            _2_ = sorted(correct_segments['a'] + correct_segments['c'] + correct_segments['d'] + correct_segments['e'] + correct_segments['g'])\n",
    "            _5_ = sorted(correct_segments['a'] + correct_segments['b'] + correct_segments['d'] + correct_segments['f'] + correct_segments['g'])\n",
    "            _3_ = sorted(correct_segments['a'] + correct_segments['c'] + correct_segments['d'] + correct_segments['f'] + correct_segments['g'])\n",
    "            print('2', ''.join(_2_))\n",
    "            print('5', ''.join(_5_))\n",
    "            print('3', ''.join(_3_))\n",
    "            print('digit', sorted(digit))\n",
    "            if correct_segments['a'] in digit and correct_segments['c'] in digit and correct_segments['d'] in digit and correct_segments['f'] in digit:\n",
    "                correct_output += '3'\n",
    "            elif correct_segments['a'] in digit and correct_segments['c'] in digit and correct_segments['d'] in digit and correct_segments['e'] in digit:\n",
    "                correct_output += '2'\n",
    "            elif correct_segments['a'] in digit and correct_segments['b'] in digit and correct_segments['d'] in digit and correct_segments['f'] in digit:\n",
    "                correct_output += '5'\n",
    "            else:\n",
    "                correct_output += '?'\n",
    "        elif len(digit) == 6:\n",
    "            if correct_segments['a'] in digit and correct_segments['b'] in digit and correct_segments['c'] in digit and correct_segments['e'] in digit and correct_segments['f'] in digit and correct_segments['g'] in digit:\n",
    "                correct_output += '0'\n",
    "            elif correct_segments['a'] in digit and correct_segments['b'] in digit and correct_segments['d'] in digit and correct_segments['e'] in digit and correct_segments['f'] in digit and correct_segments['g'] in digit:\n",
    "                correct_output += '6'\n",
    "            else:\n",
    "                correct_output += '9'\n",
    "        elif len(digit) == 7:\n",
    "            correct_output += '8'\n",
    "\n",
    "    return correct_output"
   ]
  },
  {
   "cell_type": "code",
   "execution_count": 165,
   "metadata": {},
   "outputs": [],
   "source": [
    "def decode_signals(inputs: list, outputs: list, verbose = False):\n",
    "    signals = inputs[:] + outputs[:]\n",
    "    correct_segments = {'a': '?', 'b': '?', 'c': '?', 'd': '?', 'e': '?', 'f': '?', 'g': '?'}\n",
    "    signal_counted = [len(signal) for signal in signals]\n",
    "    # print(signals)\n",
    "    # print(signal_counted)\n",
    "    \n",
    "    if 3 in signal_counted and 2 in signal_counted:\n",
    "        correct_segments['a'], correct_segments['c'], correct_segments['f'] = seven_minus_ones(seven=signals[signal_counted.index(3)], one=signals[signal_counted.index(2)])\n",
    "        # print('after seven minus one', correct_segments)\n",
    "        \n",
    "        correct_segments['b'] = four_minus_ones(four=signals[signal_counted.index(4)], one=signals[signal_counted.index(2)])\n",
    "        correct_segments['d'] = four_minus_ones(four=signals[signal_counted.index(4)], one=signals[signal_counted.index(2)])\n",
    "        # print('after four minus one', correct_segments)\n",
    "\n",
    "        _0_6_9_ = []\n",
    "        _2_3_5_ = []\n",
    "        for i, x in enumerate(signals):\n",
    "            if len(x) == 5:\n",
    "                _2_3_5_.append(signals[i])\n",
    "            if len(x) == 6:\n",
    "                _0_6_9_.append(signals[i])\n",
    "\n",
    "        # print('0-6-9', _0_6_9_)\n",
    "        # print('2-3-5', _2_3_5_)\n",
    "\n",
    "\n",
    "        # 2, 3, 5\n",
    "        for i in range(len(_2_3_5_)):\n",
    "            print('2-3-5[i] before removing known', _2_3_5_[i])\n",
    "            _2_3_5_[i] = _2_3_5_[i].replace(correct_segments['a'], '')\n",
    "            _2_3_5_[i] = _2_3_5_[i].replace(correct_segments['c'][0], '')\n",
    "            _2_3_5_[i] = _2_3_5_[i].replace(correct_segments['c'][1], '')\n",
    "            _2_3_5_[i] = _2_3_5_[i].replace(correct_segments['f'][0], '')\n",
    "            _2_3_5_[i] = _2_3_5_[i].replace(correct_segments['f'][1], '')\n",
    "            # print('2-3-5[i] after removing known', _2_3_5_[i])\n",
    "\n",
    "        # print('2-3-5 after removing known', _2_3_5_)\n",
    "\n",
    "\n",
    "        _2_3_5_common_char = ''.join(sorted(find_common_chars_list(_2_3_5_)))\n",
    "        # print('common char', _2_3_5_common_char)\n",
    "        _2_5_ = [(set(elem) - set(_2_3_5_common_char)).pop() for elem in _2_3_5_ if len(elem) == 3]\n",
    "        _3_ = [elem for elem in _2_3_5_ if len(elem) != 3]\n",
    "        # print('2/5', _2_5_)\n",
    "        # print('3', _3_)\n",
    "\n",
    "        correct_segments['b'], correct_segments['e'] = find_two_five(_2_5_[0], _2_5_[1], signals[signal_counted.index(4)])\n",
    "        correct_segments['d'] = [elem for elem in correct_segments['d'] if elem is not correct_segments['b']][0]\n",
    "        correct_segments['g'] = ''.join(_3_).replace(correct_segments['d'], '')\n",
    "        \n",
    "        # print(_2_5_)\n",
    "\n",
    "        # print('after 2-3-5', correct_segments)\n",
    "\n",
    "        for i in range(len(_0_6_9_)):\n",
    "            for correct in correct_segments:\n",
    "                if len(correct_segments[correct]) == 1:\n",
    "                    _0_6_9_[i] = _0_6_9_[i].replace(correct_segments[correct], '')\n",
    "            if len(_0_6_9_[i]) == 1:\n",
    "                correct_segments['f'] = _0_6_9_[i]\n",
    "                correct_segments['c'] = [elem for elem in correct_segments['c'] if elem not in correct_segments['f']][0]\n",
    "                break\n",
    "        # print(correct_segments)\n",
    "\n",
    "        return reroute_signal_segments(outputs, correct_segments)\n",
    "    "
   ]
  },
  {
   "cell_type": "markdown",
   "metadata": {},
   "source": [
    "1. Find ['a']\n",
    "2. Assume ['c'/'f']\n",
    "3. Find ['b'] and ['e']\n",
    "4. Using 4, find ['d']\n",
    "5. Find ['g'] in eight\n",
    "6. Find ['c'] or ['f']"
   ]
  },
  {
   "cell_type": "code",
   "execution_count": 195,
   "metadata": {},
   "outputs": [
    {
     "name": "stdout",
     "output_type": "stream",
     "text": [
      "be\n",
      "assumption after 1 (c/f) {'a': '?', 'b': '?', 'c': ['b', 'e'], 'd': '?', 'e': '?', 'f': ['b', 'e'], 'g': '?'}\n",
      "assumption after 7 minus 1 (a) {'a': 'd', 'b': '?', 'c': ['b', 'e'], 'd': '?', 'e': '?', 'f': ['b', 'e'], 'g': '?'}\n",
      "assumption after 4 minus 1 (a) {'a': 'd', 'b': ['c', 'g'], 'c': ['b', 'e'], 'd': ['c', 'g'], 'e': '?', 'f': ['b', 'e'], 'g': '?'}\n",
      "assumption after finding b and e {'a': 'd', 'b': 'c', 'c': ['b', 'e'], 'd': ['c', 'g'], 'e': 'f', 'f': ['b', 'e'], 'g': '?'}\n",
      "assumption finding d after using 4 {'a': 'd', 'b': 'c', 'c': ['b', 'e'], 'd': 'g', 'e': 'f', 'f': ['b', 'e'], 'g': '?'}\n",
      "assumption finding g after using 8 {'a': 'd', 'b': 'c', 'c': ['b', 'e'], 'd': 'g', 'e': 'f', 'f': ['b', 'e'], 'g': 'a'}\n",
      "assumption after finding all {'a': 'd', 'b': 'c', 'c': 'b', 'd': 'g', 'e': 'f', 'f': 'e', 'g': 'a'}\n",
      "signal out ['abcdefg', 'bcdef', 'bcdefg', 'bceg']\n",
      "assumptions {'a': 'd', 'b': 'c', 'c': 'b', 'd': 'g', 'e': 'f', 'f': 'e', 'g': 'a'}\n",
      "2 abdfg\n",
      "5 acdeg\n",
      "3 abdeg\n",
      "digit ['b', 'c', 'd', 'e', 'f']\n",
      "8?94\n"
     ]
    }
   ],
   "source": [
    "def decode(signal_in: list, signal_out: list, verbose=False):\n",
    "    signals = signal_in[:] + signal_out[:] \n",
    "    signals_counted = [len(elem) for elem in signals]\n",
    "    assumptions = {'a': '?', 'b': '?', 'c': '?', 'd': '?', 'e': '?', 'f': '?', 'g': '?'}\n",
    "    \n",
    "    # print(signals_counted)\n",
    "    # print(signals_counted.count(5), signals_counted.count(6))\n",
    "\n",
    "    if signals_counted.count(5) >= 2 and signals_counted.count(6) >= 2:\n",
    "        print(signals[signals_counted.index(2)]) if verbose else ...\n",
    "        assumptions['c'], assumptions['f'] = list(signals[signals_counted.index(2)]), list(signals[signals_counted.index(2)])\n",
    "        print('assumption after 1 (c/f)', assumptions) if verbose else ...\n",
    "\n",
    "        assumptions['a'] = [elem for elem in signals[signals_counted.index(3)] if elem not in signals[signals_counted.index(2)]][0]\n",
    "        print('assumption after 7 minus 1 (a)', assumptions) if verbose else ...\n",
    "\n",
    "        assumptions['b'] = [elem for elem in signals[signals_counted.index(4)] if elem not in signals[signals_counted.index(2)]]\n",
    "        assumptions['d'] = [elem for elem in signals[signals_counted.index(4)] if elem not in signals[signals_counted.index(2)]]\n",
    "        print('assumption after 4 minus 1 (a)', assumptions) if verbose else ...\n",
    "\n",
    "        two_three_five_s = [s for s in signals if len(s) == 5]\n",
    "        zero_six_nine_s = [s for s in signals if len(s) == 6]\n",
    "\n",
    "        if len(two_three_five_s) >= len(zero_six_nine_s):\n",
    "        # if True:\n",
    "            # use 2-3-5\n",
    "            for i in range(len(two_three_five_s)):\n",
    "                two_three_five_s[i] = two_three_five_s[i].replace(assumptions['a'], '') # remove 'a'\n",
    "                two_three_five_s[i] = two_three_five_s[i].replace(assumptions['c'][0], '') # remove 'c'/'f'\n",
    "                two_three_five_s[i] = two_three_five_s[i].replace(assumptions['c'][1], '') # remove 'c'/'f'\n",
    "            assumptions['b'], assumptions['e'] = find_two_five([elem for elem in two_three_five_s if len(elem) == 3], signals[signals_counted.index(4)])\n",
    "            print('assumption after finding b and e', assumptions) if verbose else ...\n",
    "        else:\n",
    "            # use 0-6-9\n",
    "            for j in range(len(zero_six_nine_s)):\n",
    "                zero_six_nine_s[j] = zero_six_nine_s[j].replace(assumptions['a'], '') # remove 'a'\n",
    "                zero_six_nine_s[j] = zero_six_nine_s[j].replace(assumptions['c'][0], '') # remove 'c'/'f'\n",
    "                zero_six_nine_s[j] = zero_six_nine_s[j].replace(assumptions['c'][1], '') # remove 'c'/'f'\n",
    "            assumptions['b'], assumptions['e'] = find_two_five([elem for elem in zero_six_nine_s if len(elem) == 3], signals[signals_counted.index(4)])\n",
    "            print('assumption after finding b and e', assumptions) if verbose else ...\n",
    "        \n",
    "        assumptions['d'] = [elem for elem in signals[signals_counted.index(4)] if elem not in list(assumptions['b'] + assumptions['c'][0] + assumptions['c'][1])][0]\n",
    "        print('assumption finding d after using 4', assumptions) if verbose else ...\n",
    "\n",
    "        assumptions['g'] = [elem for elem in signals[signals_counted.index(7)] if elem not in list(assumptions['a'] + assumptions['b'] + assumptions['d'] + assumptions['e'] + assumptions['c'][0] + assumptions['c'][1])][0]\n",
    "        print('assumption finding g after using 8', assumptions) if verbose else ...\n",
    "\n",
    "        zero_six_nine_s_bis = [s for s in signals if len(s) == 6]\n",
    "        for d in zero_six_nine_s_bis:\n",
    "            if assumptions['a'] in d and assumptions['b'] in d and assumptions['d'] in d and assumptions['e'] in d and assumptions['g'] in d:\n",
    "                assumptions['f'] = [elem for elem in d if elem not in list(assumptions['a'] + assumptions['b'] + assumptions['d'] + assumptions['e'] + assumptions['g'])][0]\n",
    "                assumptions['c'] = [elem for elem in assumptions['c'] if elem != assumptions['f']][0]\n",
    "        print('assumption after finding all', assumptions) if verbose else ...\n",
    "\n",
    "        print('signal out', signal_out)\n",
    "        return reroute_signal_segments(signal_out, assumptions)\n",
    "\n",
    "print(decode(signal_patterns[0], signal_outputs[0], True))"
   ]
  },
  {
   "cell_type": "markdown",
   "metadata": {},
   "source": [
    "# other"
   ]
  },
  {
   "cell_type": "code",
   "execution_count": 167,
   "metadata": {},
   "outputs": [],
   "source": [
    "correct = ['8394', '9781', '1197', '9361', '4873', '8418', '4548', '1625', '8717', '4315']"
   ]
  },
  {
   "cell_type": "code",
   "execution_count": 168,
   "metadata": {},
   "outputs": [],
   "source": [
    "def sum_entries(signal_inputs: list, outputs: list):\n",
    "    total = 0\n",
    "    for i, o, c in zip(signal_inputs, outputs, correct):\n",
    "        value = decode(i, o)\n",
    "        print(f'signal: {o}, value: {value}')\n",
    "        print(f'should be: {c}, was {value}' if value != c else 'correct')\n",
    "        total += int(value)\n",
    "    return total"
   ]
  },
  {
   "cell_type": "code",
   "execution_count": 177,
   "metadata": {},
   "outputs": [
    {
     "name": "stdout",
     "output_type": "stream",
     "text": [
      "signal out ['abcdefg', 'bcdef', 'bcdefg', 'bceg']\n",
      "assumptions {'a': 'd', 'b': 'c', 'c': 'b', 'd': 'g', 'e': 'f', 'f': 'e', 'g': 'a'}\n",
      "['a', 'b', 'd', 'e', 'g']\n",
      "signal: ['abcdefg', 'bcdef', 'bcdefg', 'bceg'], value: 8294\n",
      "should be: 8394, was 8294\n",
      "signal out ['bcdefg', 'bcg', 'abcdefg', 'cg']\n",
      "assumptions {'a': 'b', 'b': 'f', 'c': 'c', 'd': 'e', 'e': 'd', 'f': 'g', 'g': 'a'}\n",
      "signal: ['bcdefg', 'bcg', 'abcdefg', 'cg'], value: 9781\n",
      "correct\n",
      "signal out ['cg', 'cg', 'abcdfg', 'bcg']\n",
      "assumptions {'a': 'b', 'b': 'f', 'c': 'c', 'd': 'a', 'e': 'd', 'f': 'g', 'g': 'e'}\n",
      "signal: ['cg', 'cg', 'abcdfg', 'bcg'], value: 1197\n",
      "correct\n",
      "signal out ['abcdef', 'abcde', 'acdefg', 'bc']\n",
      "assumptions {'a': 'd', 'b': 'f', 'c': 'b', 'd': 'a', 'e': 'e', 'f': 'c', 'g': 'g'}\n",
      "['a', 'b', 'c', 'd', 'g']\n",
      "signal: ['abcdef', 'abcde', 'acdefg', 'bc'], value: 9261\n",
      "should be: 9361, was 9261\n",
      "signal out ['cefg', 'abcdefg', 'bfg', 'abefg']\n",
      "assumptions {'a': 'b', 'b': 'e', 'c': 'f', 'd': 'c', 'e': 'a', 'f': 'g', 'g': 'd'}\n",
      "['b', 'c', 'd', 'f', 'g']\n",
      "signal: ['cefg', 'abcdefg', 'bfg', 'abefg'], value: 4872\n",
      "should be: 4873, was 4872\n",
      "signal out ['abcdefg', 'abce', 'ac', 'abcdefg']\n",
      "assumptions {'a': 'f', 'b': 'b', 'c': 'c', 'd': 'e', 'e': 'g', 'f': 'a', 'g': 'd'}\n",
      "signal: ['abcdefg', 'abce', 'ac', 'abcdefg'], value: 8418\n",
      "correct\n",
      "signal out ['cefg', 'bcdef', 'cefg', 'abcdefg']\n",
      "assumptions {'a': 'd', 'b': 'c', 'c': 'g', 'd': 'e', 'e': 'b', 'f': 'f', 'g': 'a'}\n",
      "['a', 'd', 'e', 'f', 'g']\n",
      "signal: ['cefg', 'bcdef', 'cefg', 'abcdefg'], value: 4248\n",
      "should be: 4548, was 4248\n",
      "signal out ['de', 'abcefg', 'abcdg', 'bcefg']\n",
      "assumptions {'a': 'c', 'b': 'b', 'c': 'd', 'd': 'f', 'e': 'g', 'f': 'e', 'g': 'a'}\n",
      "['a', 'c', 'd', 'e', 'f']\n",
      "['a', 'c', 'd', 'e', 'f']\n",
      "signal: ['de', 'abcefg', 'abcdg', 'bcefg'], value: 1622\n",
      "should be: 1625, was 1622\n",
      "signal out ['abcdefg', 'bcg', 'cg', 'bcg']\n",
      "assumptions {'a': 'b', 'b': 'e', 'c': 'c', 'd': 'd', 'e': 'f', 'f': 'g', 'g': 'a'}\n",
      "signal: ['abcdefg', 'bcg', 'cg', 'bcg'], value: 8717\n",
      "correct\n",
      "signal out ['aefg', 'abcfg', 'fg', 'abceg']\n",
      "assumptions {'a': 'c', 'b': 'a', 'c': 'f', 'd': 'e', 'e': 'b', 'f': 'g', 'g': 'd'}\n",
      "['c', 'd', 'e', 'f', 'g']\n",
      "['c', 'd', 'e', 'f', 'g']\n",
      "signal: ['aefg', 'abcfg', 'fg', 'abceg'], value: 4212\n",
      "should be: 4315, was 4212\n",
      "60622\n"
     ]
    }
   ],
   "source": [
    "print(sum_entries(signal_patterns, signal_outputs))"
   ]
  },
  {
   "cell_type": "code",
   "execution_count": 170,
   "metadata": {},
   "outputs": [
    {
     "name": "stdout",
     "output_type": "stream",
     "text": [
      " aaaa \n",
      ".    c\n",
      ".    c\n",
      " dddd \n",
      "e    .\n",
      "e    .\n",
      " gggg \n"
     ]
    }
   ],
   "source": [
    "print(draw_digit('acdeg'))"
   ]
  },
  {
   "cell_type": "code",
   "execution_count": null,
   "metadata": {},
   "outputs": [],
   "source": []
  }
 ],
 "metadata": {
  "interpreter": {
   "hash": "482e7c184dd3b3c99c3e0d506e6d81eb0bca54ca41bbe4d0f8e487b4d85d71d1"
  },
  "kernelspec": {
   "display_name": "Python 3.8.8 64-bit ('base': conda)",
   "language": "python",
   "name": "python3"
  },
  "language_info": {
   "codemirror_mode": {
    "name": "ipython",
    "version": 3
   },
   "file_extension": ".py",
   "mimetype": "text/x-python",
   "name": "python",
   "nbconvert_exporter": "python",
   "pygments_lexer": "ipython3",
   "version": "3.9.4"
  },
  "orig_nbformat": 4
 },
 "nbformat": 4,
 "nbformat_minor": 2
}
