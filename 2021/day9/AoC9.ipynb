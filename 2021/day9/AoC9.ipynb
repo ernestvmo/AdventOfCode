{
 "cells": [
  {
   "cell_type": "markdown",
   "metadata": {},
   "source": [
    "### Advent of Code Day 9"
   ]
  },
  {
   "cell_type": "markdown",
   "metadata": {},
   "source": [
    "#### Input"
   ]
  },
  {
   "cell_type": "code",
   "execution_count": 94,
   "metadata": {},
   "outputs": [],
   "source": [
    "with open('input.txt') as f:\n",
    "    lines = [line.strip() for line in f.readlines()]"
   ]
  },
  {
   "cell_type": "code",
   "execution_count": 95,
   "metadata": {},
   "outputs": [],
   "source": [
    "heightmap = []\n",
    "max = 0\n",
    "min = 100**100\n",
    "\n",
    "for line in lines:\n",
    "    for digit in line:\n",
    "        if int(digit) > max:\n",
    "            max = int(digit)\n",
    "        if int(digit) < min:\n",
    "            min = int(digit)\n",
    "    heightmap.append([int(digit) for digit in line])"
   ]
  },
  {
   "cell_type": "markdown",
   "metadata": {},
   "source": [
    "#### Task 1"
   ]
  },
  {
   "cell_type": "code",
   "execution_count": 96,
   "metadata": {},
   "outputs": [],
   "source": [
    "def get_neighbouring_points_value(map: list, point: tuple):\n",
    "    x, y = point\n",
    "    NW, NE, NN, NS = None, None, None, None\n",
    "\n",
    "    if x > 0:\n",
    "        NW = map[x - 1][y]\n",
    "    if x < len(map) - 1:\n",
    "        NE = map[x + 1][y]\n",
    "    if y > 0:\n",
    "        NN = map[x][y - 1]\n",
    "    if y < len(map[1]) - 1:\n",
    "        NS = map[x][y + 1]\n",
    "\n",
    "    return NW, NE, NN, NS"
   ]
  },
  {
   "cell_type": "code",
   "execution_count": 97,
   "metadata": {},
   "outputs": [],
   "source": [
    "def find_risk_points(map: list):\n",
    "    low_points = []\n",
    "    risks = []\n",
    "\n",
    "    for i in range(len(map)):\n",
    "        for j in range(len(map[i])):\n",
    "            neighbours = get_neighbouring_points_value(map, (i, j))\n",
    "            islower = True\n",
    "            for n in neighbours:\n",
    "                if n is not None:\n",
    "                    if map[i][j] >= n:\n",
    "                        islower = False\n",
    "            if islower:\n",
    "                low_points.append([i,j])\n",
    "                risks.append(map[i][j] + 1)\n",
    "\n",
    "    return risks"
   ]
  },
  {
   "cell_type": "code",
   "execution_count": 98,
   "metadata": {},
   "outputs": [
    {
     "name": "stdout",
     "output_type": "stream",
     "text": [
      "548\n"
     ]
    }
   ],
   "source": [
    "print(sum(find_risk_points(heightmap)))"
   ]
  },
  {
   "cell_type": "markdown",
   "metadata": {},
   "source": [
    "#### Task 2"
   ]
  },
  {
   "cell_type": "code",
   "execution_count": 99,
   "metadata": {},
   "outputs": [],
   "source": [
    "def find_low_points(map: list):\n",
    "    low_points = []\n",
    "    risks = []\n",
    "\n",
    "    for i in range(len(map)):\n",
    "        for j in range(len(map[i])):\n",
    "            neighbours = get_neighbouring_points_value(map, (i, j))\n",
    "            islower = True\n",
    "            for n in neighbours:\n",
    "                if n is not None:\n",
    "                    if map[i][j] >= n:\n",
    "                        islower = False\n",
    "            if islower:\n",
    "                low_points.append([i,j])\n",
    "                risks.append(map[i][j] + 1)\n",
    "\n",
    "    return low_points"
   ]
  },
  {
   "cell_type": "code",
   "execution_count": 100,
   "metadata": {},
   "outputs": [],
   "source": [
    "def get_neighbouring_points(map: list, point: tuple):\n",
    "    x, y = point\n",
    "    NW, NE, NN, NS = None, None, None, None\n",
    "\n",
    "    if x > 0:\n",
    "        # NW = map[x - 1][y]\n",
    "        NW = [x - 1, y]\n",
    "    if x < len(map) - 1:\n",
    "        # NE = map[x + 1][y]\n",
    "        NE = [x + 1, y]\n",
    "    if y > 0:\n",
    "        # NN = map[x][y - 1]\n",
    "        NN = [x, y - 1]\n",
    "    if y < len(map[1]) - 1:\n",
    "        # NS = map[x][y + 1]\n",
    "        NS = [x, y + 1]\n",
    "\n",
    "    return NW, NE, NN, NS"
   ]
  },
  {
   "cell_type": "code",
   "execution_count": 101,
   "metadata": {},
   "outputs": [],
   "source": [
    "def explore_branch(map, point, visited):\n",
    "    neighbours = get_neighbouring_points(map, point)\n",
    "    neighbours = [elem for elem in neighbours if elem is not None and elem not in visited and elem != 9]\n",
    "\n",
    "    for n in neighbours:\n",
    "        if map[n[0]][n[1]] - 1 == map[point[0]][point[1]] and map[n[0]][n[1]] != 9:\n",
    "            visited.append(n)\n",
    "            visited = explore_branch(map, n, visited)\n",
    "    return visited[:]"
   ]
  },
  {
   "cell_type": "code",
   "execution_count": 102,
   "metadata": {},
   "outputs": [],
   "source": [
    "def find_basins(map: list):\n",
    "    basins = []\n",
    "\n",
    "    for point in find_low_points(heightmap):\n",
    "        visited = []\n",
    "        visited.append(point)\n",
    "        visited = explore_branch(heightmap, point, visited)\n",
    "        basins.append(visited)\n",
    "    return basins"
   ]
  },
  {
   "cell_type": "code",
   "execution_count": 103,
   "metadata": {},
   "outputs": [],
   "source": [
    "def sum_basins_size(map):\n",
    "    basins = find_basins(map)\n",
    "    total_size = 1\n",
    "    print(len(basins))\n",
    "    # print([len(basin) for basin in basins])\n",
    "    for basin in sorted(basins, key=len, reverse=True)[:3]:\n",
    "        # print(len(basin))\n",
    "        total_size *= len(basin)\n",
    "    \n",
    "    return total_size"
   ]
  },
  {
   "cell_type": "code",
   "execution_count": 104,
   "metadata": {},
   "outputs": [
    {
     "name": "stdout",
     "output_type": "stream",
     "text": [
      "235\n",
      "401800\n"
     ]
    }
   ],
   "source": [
    "print(sum_basins_size(heightmap))"
   ]
  },
  {
   "cell_type": "code",
   "execution_count": 105,
   "metadata": {},
   "outputs": [],
   "source": [
    "with open('input.txt') as f:\n",
    "    lines = f.readlines()\n",
    "\n",
    "heights = []\n",
    "for line in lines:\n",
    "    for d in line.strip():\n",
    "        heights.append(int(d))"
   ]
  },
  {
   "cell_type": "code",
   "execution_count": 106,
   "metadata": {},
   "outputs": [
    {
     "data": {
      "image/png": "[encoded data removed]",
      "text/plain": [
       "<Figure size 432x288 with 1 Axes>"
      ]
     },
     "metadata": {
      "needs_background": "light"
     },
     "output_type": "display_data"
    }
   ],
   "source": [
    "import matplotlib.pyplot as plt\n",
    "import numpy as np\n",
    "\n",
    "heights = np.array(heights).reshape(100, 100)\n",
    "plt.imshow(heights, cmap='hot', interpolation='nearest')\n",
    "plt.show()"
   ]
  },
  {
   "cell_type": "code",
   "execution_count": null,
   "metadata": {},
   "outputs": [],
   "source": []
  }
 ],
 "metadata": {
  "interpreter": {
   "hash": "aee8b7b246df8f9039afb4144a1f6fd8d2ca17a180786b69acc140d282b71a49"
  },
  "kernelspec": {
   "display_name": "Python 3.9.4 64-bit",
   "language": "python",
   "name": "python3"
  },
  "language_info": {
   "codemirror_mode": {
    "name": "ipython",
    "version": 3
   },
   "file_extension": ".py",
   "mimetype": "text/x-python",
   "name": "python",
   "nbconvert_exporter": "python",
   "pygments_lexer": "ipython3",
   "version": "3.9.4"
  },
  "orig_nbformat": 4
 },
 "nbformat": 4,
 "nbformat_minor": 2
}
