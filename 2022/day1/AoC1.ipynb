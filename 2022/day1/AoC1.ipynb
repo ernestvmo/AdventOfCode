{
 "cells": [
  {
   "cell_type": "code",
   "execution_count": 21,
   "metadata": {},
   "outputs": [],
   "source": [
    "def extract_data(filename):\n",
    "    with open(filename) as file:\n",
    "        calories = []\n",
    "        elf = []\n",
    "\n",
    "        for line in file:\n",
    "            if line == \"\\n\":\n",
    "                # new elf\n",
    "                calories.append(elf)\n",
    "                elf = []\n",
    "            else:\n",
    "                line = line.rstrip(\"\\n\")\n",
    "                elf.append(int(line))\n",
    "        calories.append(elf)\n",
    "    return calories"
   ]
  },
  {
   "cell_type": "markdown",
   "metadata": {},
   "source": [
    "#### Part 1"
   ]
  },
  {
   "cell_type": "code",
   "execution_count": 23,
   "metadata": {},
   "outputs": [],
   "source": [
    "def find_most_carrying(calories: list):\n",
    "    max_elf = sum(calories[0])\n",
    "    for elf in calories:\n",
    "        max_elf = max(max_elf, sum(elf))\n",
    "\n",
    "    return max_elf"
   ]
  },
  {
   "cell_type": "code",
   "execution_count": 27,
   "metadata": {},
   "outputs": [
    {
     "name": "stdout",
     "output_type": "stream",
     "text": [
      "66719\n"
     ]
    }
   ],
   "source": [
    "calories = extract_data(\"input.txt\")\n",
    "most_calories = find_most_carrying(calories)\n",
    "print(most_calories)"
   ]
  },
  {
   "cell_type": "markdown",
   "metadata": {},
   "source": [
    "#### Part 2"
   ]
  },
  {
   "cell_type": "code",
   "execution_count": 28,
   "metadata": {},
   "outputs": [],
   "source": [
    "def find_top_three(calories: list):\n",
    "    for i in range(len(calories)):\n",
    "        calories[i] = sum(calories[i])\n",
    "    return sum(sorted(calories, reverse=True)[:3])"
   ]
  },
  {
   "cell_type": "code",
   "execution_count": 29,
   "metadata": {},
   "outputs": [
    {
     "name": "stdout",
     "output_type": "stream",
     "text": [
      "198551\n"
     ]
    }
   ],
   "source": [
    "top_three = find_top_three(calories)\n",
    "print(top_three)"
   ]
  },
  {
   "cell_type": "code",
   "execution_count": null,
   "metadata": {},
   "outputs": [],
   "source": []
  }
 ],
 "metadata": {
  "kernelspec": {
   "display_name": "Python 3.11.0 ('snacs_retake')",
   "language": "python",
   "name": "python3"
  },
  "language_info": {
   "codemirror_mode": {
    "name": "ipython",
    "version": 3
   },
   "file_extension": ".py",
   "mimetype": "text/x-python",
   "name": "python",
   "nbconvert_exporter": "python",
   "pygments_lexer": "ipython3",
   "version": "3.11.0"
  },
  "orig_nbformat": 4,
  "vscode": {
   "interpreter": {
    "hash": "0b22bb1b565654e2ad655c7ab5323c653e9523a2819e15596890dd7fdd33ddfc"
   }
  }
 },
 "nbformat": 4,
 "nbformat_minor": 2
}
