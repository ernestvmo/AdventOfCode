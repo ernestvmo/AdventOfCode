{
 "cells": [
  {
   "cell_type": "code",
   "execution_count": 1,
   "metadata": {},
   "outputs": [],
   "source": [
    "from aocd.models import Puzzle\n",
    "\n",
    "def load_data(mode: str):\n",
    "    if mode == \"test\":\n",
    "        data = Puzzle(2022, 1).example_data.splitlines()\n",
    "    else:\n",
    "        data = Puzzle(2022, 1).input_data.splitlines()\n",
    "    calories = []\n",
    "    elf = []\n",
    "\n",
    "    for line in data:\n",
    "        if line == \"\\n\" or line == \"\":\n",
    "            # new elf\n",
    "            calories.append(elf)\n",
    "            elf = []\n",
    "        else:\n",
    "            line = line.rstrip(\"\\n\")\n",
    "            elf.append(int(line))\n",
    "    calories.append(elf)\n",
    "    return calories"
   ]
  },
  {
   "cell_type": "markdown",
   "metadata": {},
   "source": [
    "#### Part 1"
   ]
  },
  {
   "cell_type": "code",
   "execution_count": 2,
   "metadata": {},
   "outputs": [],
   "source": [
    "def find_most_carrying(calories: list):\n",
    "    max_elf = 0\n",
    "    for elf in calories:\n",
    "        max_elf = max(max_elf, sum(elf))\n",
    "\n",
    "    return max_elf"
   ]
  },
  {
   "cell_type": "code",
   "execution_count": 3,
   "metadata": {},
   "outputs": [
    {
     "name": "stdout",
     "output_type": "stream",
     "text": [
      "66719\n"
     ]
    }
   ],
   "source": [
    "calories = load_data(\"input\")\n",
    "most_calories = find_most_carrying(calories)\n",
    "print(most_calories)"
   ]
  },
  {
   "cell_type": "markdown",
   "metadata": {},
   "source": [
    "#### Part 2"
   ]
  },
  {
   "cell_type": "code",
   "execution_count": 4,
   "metadata": {},
   "outputs": [],
   "source": [
    "def find_top_three(calories: list):\n",
    "    for i in range(len(calories)):\n",
    "        calories[i] = sum(calories[i])\n",
    "    return sum(sorted(calories, reverse=True)[:3])"
   ]
  },
  {
   "cell_type": "code",
   "execution_count": 5,
   "metadata": {},
   "outputs": [
    {
     "name": "stdout",
     "output_type": "stream",
     "text": [
      "198551\n"
     ]
    }
   ],
   "source": [
    "top_three = find_top_three(calories)\n",
    "print(top_three)"
   ]
  }
 ],
 "metadata": {
  "kernelspec": {
   "display_name": "AoC",
   "language": "python",
   "name": "python3"
  },
  "language_info": {
   "codemirror_mode": {
    "name": "ipython",
    "version": 3
   },
   "file_extension": ".py",
   "mimetype": "text/x-python",
   "name": "python",
   "nbconvert_exporter": "python",
   "pygments_lexer": "ipython3",
   "version": "3.9.13"
  },
  "orig_nbformat": 4,
  "vscode": {
   "interpreter": {
    "hash": "99b8b259ecf060e1325605a5662f2662c95fc7cc17fc11e32a931e17a299fa8e"
   }
  }
 },
 "nbformat": 4,
 "nbformat_minor": 2
}
