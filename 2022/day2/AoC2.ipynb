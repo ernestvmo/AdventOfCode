{
 "cells": [
  {
   "cell_type": "code",
   "execution_count": 1,
   "metadata": {},
   "outputs": [],
   "source": [
    "def load_data(filename: str):\n",
    "    with open(filename) as file:\n",
    "        actions = []\n",
    "        for line in file:\n",
    "            line = line.rstrip(\"\\n\")\n",
    "            actions.append(line.split())\n",
    "        return actions"
   ]
  },
  {
   "cell_type": "code",
   "execution_count": 2,
   "metadata": {},
   "outputs": [
    {
     "data": {
      "text/plain": [
       "[['A', 'Y'], ['B', 'X'], ['C', 'Z']]"
      ]
     },
     "execution_count": 2,
     "metadata": {},
     "output_type": "execute_result"
    }
   ],
   "source": [
    "load_data(\"test.txt\")"
   ]
  },
  {
   "cell_type": "markdown",
   "metadata": {},
   "source": [
    "#### Part 1"
   ]
  },
  {
   "cell_type": "code",
   "execution_count": 14,
   "metadata": {},
   "outputs": [],
   "source": [
    "def get_hand_value(move: str) -> int:\n",
    "    if move == 'A' or move == 'X':\n",
    "        return 1\n",
    "    if move == 'B' or move == 'Y':\n",
    "        return 2\n",
    "    if move == 'C' or move == 'Z':\n",
    "        return 3\n",
    "\n",
    "def calculate_score(actions):\n",
    "    # A = X = 1\n",
    "    # B = Y = 2\n",
    "    # C = Z = 3\n",
    "    scores = []\n",
    "    for o, m in actions:\n",
    "        if get_hand_value(o) == get_hand_value(m):\n",
    "            score = 3 + get_hand_value(m)\n",
    "        else:\n",
    "            if (o == \"A\" and m == \"Y\") or (o == \"B\" and m == \"Z\") or (o == \"C\" and m == \"X\"):\n",
    "                # OPPONENT LOSS, WE WIN\n",
    "                score = 6 + get_hand_value(m)\n",
    "            elif (o == \"A\" and m == \"Z\") or (o == \"B\" and m == \"X\") or (o == \"C\" and m == \"Y\"):\n",
    "                # OPPONENT WIN, WE LOSE\n",
    "                score = get_hand_value(m)\n",
    "        scores.append(score)\n",
    "    return sum(scores), scores"
   ]
  },
  {
   "cell_type": "code",
   "execution_count": 16,
   "metadata": {},
   "outputs": [
    {
     "name": "stdout",
     "output_type": "stream",
     "text": [
      "12772\n"
     ]
    }
   ],
   "source": [
    "actions = load_data(\"input.txt\")\n",
    "total, scores = calculate_score(actions)\n",
    "print(total)"
   ]
  },
  {
   "cell_type": "code",
   "execution_count": 28,
   "metadata": {},
   "outputs": [],
   "source": [
    "def find_correct_move(actions: list):\n",
    "    # A = X' = 1\n",
    "    # B = Y' = 2\n",
    "    # C = Z' = 3\n",
    "    \n",
    "    X = DRAW = 3\n",
    "    Y = LOSE = 0\n",
    "    Z = WIN = 6\n",
    "\n",
    "    scores = []\n",
    "    for o, end in actions:\n",
    "        if end == \"Z\":\n",
    "            # needs to be a win\n",
    "            if o == \"A\":\n",
    "                # we play \"PAPER\"\n",
    "                score = WIN + get_hand_value('Y')\n",
    "            elif o == \"B\":\n",
    "                # we play \"SCISSOR\"\n",
    "                score = WIN + get_hand_value('Z')\n",
    "            else:\n",
    "                # we play \"ROCK\"\n",
    "                score = WIN + get_hand_value('X')\n",
    "        elif end == \"X\":\n",
    "            # needs to be a lose\n",
    "            if o == \"A\":\n",
    "                # we play \"SCISSOR\"\n",
    "                score = get_hand_value('Z')\n",
    "            elif o == \"B\":\n",
    "                # we play \"ROCK\"\n",
    "                score = get_hand_value('X')\n",
    "            else:\n",
    "                # we play \"PAPER\"\n",
    "                score = get_hand_value('Y')\n",
    "        else:\n",
    "            # needs to a draw\n",
    "            score = DRAW + get_hand_value(o)\n",
    "        scores.append(score)\n",
    "    return sum(scores), scores\n"
   ]
  },
  {
   "cell_type": "code",
   "execution_count": 30,
   "metadata": {},
   "outputs": [
    {
     "name": "stdout",
     "output_type": "stream",
     "text": [
      "11618\n"
     ]
    }
   ],
   "source": [
    "actions = load_data(\"input.txt\")\n",
    "total, scores = find_correct_move(actions)\n",
    "print(total)"
   ]
  },
  {
   "cell_type": "code",
   "execution_count": null,
   "metadata": {},
   "outputs": [],
   "source": []
  }
 ],
 "metadata": {
  "kernelspec": {
   "display_name": "Python 3.11.0 ('snacs_retake')",
   "language": "python",
   "name": "python3"
  },
  "language_info": {
   "codemirror_mode": {
    "name": "ipython",
    "version": 3
   },
   "file_extension": ".py",
   "mimetype": "text/x-python",
   "name": "python",
   "nbconvert_exporter": "python",
   "pygments_lexer": "ipython3",
   "version": "3.11.0"
  },
  "orig_nbformat": 4,
  "vscode": {
   "interpreter": {
    "hash": "0b22bb1b565654e2ad655c7ab5323c653e9523a2819e15596890dd7fdd33ddfc"
   }
  }
 },
 "nbformat": 4,
 "nbformat_minor": 2
}
