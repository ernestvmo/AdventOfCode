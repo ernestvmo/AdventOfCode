{
 "cells": [
  {
   "cell_type": "code",
   "execution_count": 1,
   "metadata": {},
   "outputs": [],
   "source": [
    "from aocd.models import Puzzle\n",
    "\n",
    "def load_data(mode: str):\n",
    "    if mode == \"test\":\n",
    "        data = Puzzle(2022, 4).example_data.splitlines()\n",
    "    elif mode == 'input':\n",
    "        data = Puzzle(2022, 4).input_data.splitlines()\n",
    "    else:\n",
    "        raise ValueError(\"This mode is not valid.\")\n",
    "\n",
    "    map = []\n",
    "    pairs = []\n",
    "    for line in data:\n",
    "        line = line.rstrip(\"\\n\")\n",
    "        e1, e2 = line.split(',')\n",
    "        e1, e2 = e1.split('-'), e2.split('-')\n",
    "        e1, e2 = [int(e1[0]), int(e1[1])], [int(e2[0]), int(e2[1])]\n",
    "        pairs.append([e1, e2])\n",
    "    return pairs"
   ]
  },
  {
   "cell_type": "markdown",
   "metadata": {},
   "source": [
    "#### Part 1"
   ]
  },
  {
   "cell_type": "code",
   "execution_count": 2,
   "metadata": {},
   "outputs": [],
   "source": [
    "def is_full_overlap(e1, e2):\n",
    "    if e1[0] <= e2[0] and e1[1] >= e2[1] or e1[0] >= e2[0] and e1[1] <= e2[1]:\n",
    "        return True\n",
    "    else: return False\n",
    "\n",
    "def find_full_overlaps(pairs: list):\n",
    "    count = 0\n",
    "    for e1, e2 in pairs:\n",
    "        if is_full_overlap(e1, e2):\n",
    "            count += 1\n",
    "    return count"
   ]
  },
  {
   "cell_type": "code",
   "execution_count": 3,
   "metadata": {},
   "outputs": [
    {
     "name": "stdout",
     "output_type": "stream",
     "text": [
      "485\n"
     ]
    }
   ],
   "source": [
    "pairs = load_data(\"input\")\n",
    "total_overlaps = find_full_overlaps(pairs)\n",
    "print(total_overlaps)"
   ]
  },
  {
   "cell_type": "markdown",
   "metadata": {},
   "source": [
    "#### Part 2"
   ]
  },
  {
   "cell_type": "code",
   "execution_count": 4,
   "metadata": {},
   "outputs": [],
   "source": [
    "def has_overlap(elf_1: list, elf_2: list):\n",
    "    overlap = []\n",
    "    for e in range(elf_1[0], elf_1[1] + 1):\n",
    "        if e in list(range(elf_2[0], elf_2[1] + 1)):\n",
    "            overlap.append(e)\n",
    "    return overlap\n",
    "\n",
    "def find_overlaps(pairs: list):\n",
    "    count = 0\n",
    "    overlaps = []\n",
    "    for e1, e2 in pairs:\n",
    "        overlap = has_overlap(e1, e2)\n",
    "        if overlap != []:\n",
    "            count += 1\n",
    "        overlaps.append(overlap) if overlap != [] else overlaps.append(None)\n",
    "    return count, overlaps"
   ]
  },
  {
   "cell_type": "code",
   "execution_count": 5,
   "metadata": {},
   "outputs": [
    {
     "name": "stdout",
     "output_type": "stream",
     "text": [
      "857\n"
     ]
    }
   ],
   "source": [
    "pairs = load_data(\"input\")\n",
    "total_overlaps, overlaps = find_overlaps(pairs)\n",
    "print(total_overlaps)"
   ]
  }
 ],
 "metadata": {
  "kernelspec": {
   "display_name": "Python 3.9.13 ('AoC')",
   "language": "python",
   "name": "python3"
  },
  "language_info": {
   "codemirror_mode": {
    "name": "ipython",
    "version": 3
   },
   "file_extension": ".py",
   "mimetype": "text/x-python",
   "name": "python",
   "nbconvert_exporter": "python",
   "pygments_lexer": "ipython3",
   "version": "3.9.13"
  },
  "orig_nbformat": 4,
  "vscode": {
   "interpreter": {
    "hash": "99b8b259ecf060e1325605a5662f2662c95fc7cc17fc11e32a931e17a299fa8e"
   }
  }
 },
 "nbformat": 4,
 "nbformat_minor": 2
}
