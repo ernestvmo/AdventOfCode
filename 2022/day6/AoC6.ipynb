{
 "cells": [
  {
   "cell_type": "code",
   "execution_count": 1,
   "metadata": {},
   "outputs": [],
   "source": [
    "def load_data(filename: str):\n",
    "    with open(filename) as file:\n",
    "        for line in file:\n",
    "            line = line.rstrip(\"\\n\")\n",
    "        buffer = line\n",
    "    return buffer"
   ]
  },
  {
   "cell_type": "markdown",
   "metadata": {},
   "source": [
    "#### Part 1"
   ]
  },
  {
   "cell_type": "code",
   "execution_count": 2,
   "metadata": {},
   "outputs": [],
   "source": [
    "def is_sequence_different(sequence: str):\n",
    "    if len(set(sequence)) == 4:\n",
    "        return True\n",
    "    else:\n",
    "        return False\n",
    "\n",
    "def find_first_sequence(buffer):\n",
    "    for i in range(4, len(buffer) + 1):\n",
    "        if is_sequence_different(buffer[i - 4:i]):\n",
    "            return i, buffer[i-4:i]"
   ]
  },
  {
   "cell_type": "code",
   "execution_count": 3,
   "metadata": {},
   "outputs": [
    {
     "name": "stdout",
     "output_type": "stream",
     "text": [
      "1287\n"
     ]
    }
   ],
   "source": [
    "buffer = load_data(\"input.txt\")\n",
    "first, sequence = find_first_sequence(buffer)\n",
    "print(first)"
   ]
  },
  {
   "cell_type": "markdown",
   "metadata": {},
   "source": [
    "#### Part 2"
   ]
  },
  {
   "cell_type": "code",
   "execution_count": 4,
   "metadata": {},
   "outputs": [],
   "source": [
    "def is_sequence_different_message(sequence: str):\n",
    "    if len(set(sequence)) == 14:\n",
    "        return True\n",
    "    else:\n",
    "        return False\n",
    "\n",
    "def find_message(buffer):\n",
    "    for i in range(14, len(buffer) + 1):\n",
    "        if is_sequence_different_message(buffer[i - 14:i]):\n",
    "            return i, buffer[i-14:i]"
   ]
  },
  {
   "cell_type": "code",
   "execution_count": 5,
   "metadata": {},
   "outputs": [
    {
     "name": "stdout",
     "output_type": "stream",
     "text": [
      "3716\n"
     ]
    }
   ],
   "source": [
    "buffer = load_data(\"input.txt\")\n",
    "first, sequence = find_message(buffer)\n",
    "print(first)"
   ]
  }
 ],
 "metadata": {
  "kernelspec": {
   "display_name": "Python 3.9.13 ('AoC')",
   "language": "python",
   "name": "python3"
  },
  "language_info": {
   "codemirror_mode": {
    "name": "ipython",
    "version": 3
   },
   "file_extension": ".py",
   "mimetype": "text/x-python",
   "name": "python",
   "nbconvert_exporter": "python",
   "pygments_lexer": "ipython3",
   "version": "3.9.13"
  },
  "orig_nbformat": 4,
  "vscode": {
   "interpreter": {
    "hash": "99b8b259ecf060e1325605a5662f2662c95fc7cc17fc11e32a931e17a299fa8e"
   }
  }
 },
 "nbformat": 4,
 "nbformat_minor": 2
}
