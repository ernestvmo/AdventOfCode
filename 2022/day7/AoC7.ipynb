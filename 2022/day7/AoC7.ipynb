{
 "cells": [
  {
   "cell_type": "code",
   "execution_count": 1,
   "metadata": {},
   "outputs": [],
   "source": [
    "from aocd.models import Puzzle\n",
    "\n",
    "def load_data(mode: str):\n",
    "    if mode == \"test\":\n",
    "        file = open(\"test.txt\", \"r\")\n",
    "        data = file.readlines()\n",
    "        file.close()\n",
    "    elif mode == 'input':\n",
    "        data = Puzzle(2022, 7).input_data.splitlines()\n",
    "    else:\n",
    "        raise ValueError(\"This mode is not valid.\")\n",
    "\n",
    "    commands = []\n",
    "    for line in data:\n",
    "        commands.append(line.rstrip('\\n'))\n",
    "    return commands"
   ]
  },
  {
   "cell_type": "code",
   "execution_count": 2,
   "metadata": {},
   "outputs": [],
   "source": [
    "from pathlib import Path\n",
    "from collections import defaultdict\n",
    "\n",
    "def compute_dir_size(commands: list[str]):\n",
    "    tree = build_tree(commands)\n",
    "    return sum([v for v in calculate_size(tree, defaultdict(int)).values() if v <= 100000])\n",
    "\n",
    "def calculate_size(tree, path_to_size: defaultdict[str, int], dir_path=\"\"):\n",
    "    parent_folder = dir_path if dir_path else \"/\"\n",
    "    for k, v in tree.items():\n",
    "        if isinstance(v, dict):\n",
    "            calculate_size(v, path_to_size, f\"{dir_path}/{k}\")\n",
    "            path_to_size[parent_folder] += path_to_size[f\"{dir_path}/{k}\"]\n",
    "        else:\n",
    "            path_to_size[parent_folder] += v\n",
    "    return path_to_size\n",
    "\n",
    "def build_tree(commands: list[str]):\n",
    "    tree = init_tree()\n",
    "    curr = Path(\"/\")\n",
    "    for line in commands:\n",
    "        cmd = line.split()\n",
    "        if cmd[0] == \"$\":\n",
    "            # command\n",
    "            if cmd[1] == \"cd\":\n",
    "                if cmd[2] == \"/\":\n",
    "                    curr = Path(\"/\")\n",
    "                elif cmd[2] == \"..\":\n",
    "                    curr = curr.parent\n",
    "                else:\n",
    "                    curr = curr / cmd[2]\n",
    "            elif cmd[1] == \"ls\":\n",
    "                pass\n",
    "            else:\n",
    "                print(\"ERROR\")\n",
    "        else:\n",
    "            # not a command\n",
    "            path = [p for p in str(curr).split(\"/\") if p]\n",
    "            target_dir = tree\n",
    "            for p in path:\n",
    "                target_dir = target_dir[p]\n",
    "            if cmd[0] == \"dir\":\n",
    "                target_dir[cmd[1]] = defaultdict()\n",
    "            else:\n",
    "                target_dir[cmd[1]] = int(cmd[0])\n",
    "    return tree\n",
    "\n",
    "def init_tree():\n",
    "    return defaultdict(init_tree)"
   ]
  },
  {
   "cell_type": "code",
   "execution_count": 3,
   "metadata": {},
   "outputs": [
    {
     "name": "stdout",
     "output_type": "stream",
     "text": [
      "1886043\n"
     ]
    }
   ],
   "source": [
    "cmds = load_data(\"input\")\n",
    "answer = compute_dir_size(cmds)\n",
    "print(answer)"
   ]
  },
  {
   "cell_type": "code",
   "execution_count": 4,
   "metadata": {},
   "outputs": [],
   "source": [
    "def compute_dirs_to_remove(input_file: Path):\n",
    "    max_size = 70000000\n",
    "    update_size = 30000000\n",
    "    \n",
    "    tree = build_tree(input_file)\n",
    "    path_to_sizes = calculate_size(tree, defaultdict(int))\n",
    "    \n",
    "    total_unused_space = max_size - path_to_sizes[\"/\"]\n",
    "    min_to_delete = update_size - total_unused_space\n",
    "    \n",
    "    assert min_to_delete > 0\n",
    "\n",
    "    for dir_size in sorted(path_to_sizes.values()):\n",
    "        if dir_size > min_to_delete:\n",
    "            return dir_size\n",
    "    raise RuntimeError(\"No way to free up enough space, we are doomed\")"
   ]
  },
  {
   "cell_type": "code",
   "execution_count": 5,
   "metadata": {},
   "outputs": [
    {
     "name": "stdout",
     "output_type": "stream",
     "text": [
      "3842121\n"
     ]
    }
   ],
   "source": [
    "cmds = load_data(\"input\")\n",
    "answer = compute_dirs_to_remove(cmds)\n",
    "print(answer)"
   ]
  }
 ],
 "metadata": {
  "kernelspec": {
   "display_name": "Python 3.9.13 ('AoC')",
   "language": "python",
   "name": "python3"
  },
  "language_info": {
   "codemirror_mode": {
    "name": "ipython",
    "version": 3
   },
   "file_extension": ".py",
   "mimetype": "text/x-python",
   "name": "python",
   "nbconvert_exporter": "python",
   "pygments_lexer": "ipython3",
   "version": "3.9.13"
  },
  "orig_nbformat": 4,
  "vscode": {
   "interpreter": {
    "hash": "99b8b259ecf060e1325605a5662f2662c95fc7cc17fc11e32a931e17a299fa8e"
   }
  }
 },
 "nbformat": 4,
 "nbformat_minor": 2
}
