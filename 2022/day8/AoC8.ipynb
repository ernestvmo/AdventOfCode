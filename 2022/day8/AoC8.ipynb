{
 "cells": [
  {
   "cell_type": "code",
   "execution_count": 1,
   "metadata": {},
   "outputs": [],
   "source": [
    "from aocd.models import Puzzle\n",
    "import math\n",
    "import numpy as np\n",
    "\n",
    "def load_data(mode: str):\n",
    "    if mode == \"test\":\n",
    "        data = Puzzle(2022, 8).example_data.splitlines()\n",
    "    elif mode == 'input':\n",
    "        data = Puzzle(2022, 8).input_data.splitlines()\n",
    "    else:\n",
    "        raise ValueError(\"This mode is not valid.\")\n",
    "\n",
    "    trees = []\n",
    "    for line in data:\n",
    "        trees.append([int(t) for t in line.rstrip(\"\\n\")])\n",
    "    return trees"
   ]
  },
  {
   "cell_type": "markdown",
   "metadata": {},
   "source": [
    "#### Part 1"
   ]
  },
  {
   "cell_type": "code",
   "execution_count": 2,
   "metadata": {},
   "outputs": [],
   "source": [
    "def is_visible(position, trees):\n",
    "    x, y = position\n",
    "    is_visible_left = is_visible_right = is_visible_top = is_visible_bottom = True\n",
    "    # check right\n",
    "    for j in range(y + 1, len(trees[y])):\n",
    "        if trees[x][y] <= trees[x][j]:\n",
    "            is_visible_right = False\n",
    "    # check left\n",
    "    for j in range(0, y):\n",
    "        if trees[x][y] <= trees[x][j]:\n",
    "            is_visible_left = False\n",
    "    # check bottom\n",
    "    for i in range(x + 1, len(trees)):\n",
    "        if trees[x][y] <= trees[i][y]:\n",
    "            is_visible_bottom = False\n",
    "    # check top\n",
    "    for i in range(0, x):\n",
    "        if trees[x][y] <= trees[i][y]:\n",
    "            is_visible_top = False\n",
    "    return is_visible_left or is_visible_right or is_visible_top or is_visible_bottom\n",
    "\n",
    "def check_height(trees: np.ndarray):\n",
    "    total_visible = (len(trees) - 1)*2 + (len(trees[0]) - 1)*2\n",
    "    for i in range(1, len(trees) - 1):\n",
    "        for j in range(1, len(trees[i]) - 1):\n",
    "            if is_visible([i, j], trees):\n",
    "                total_visible += 1 \n",
    "    return total_visible"
   ]
  },
  {
   "cell_type": "code",
   "execution_count": 3,
   "metadata": {},
   "outputs": [
    {
     "name": "stdout",
     "output_type": "stream",
     "text": [
      "1798\n"
     ]
    }
   ],
   "source": [
    "trees = load_data('input')\n",
    "visible_trees = check_height(trees)\n",
    "print(visible_trees)"
   ]
  },
  {
   "cell_type": "markdown",
   "metadata": {},
   "source": [
    "#### Part 2"
   ]
  },
  {
   "cell_type": "code",
   "execution_count": 4,
   "metadata": {},
   "outputs": [],
   "source": [
    "def scenic_score(position, trees):\n",
    "    x, y = position\n",
    "    scenic_score_right = scenic_score_left = scenic_score_bottom = scenic_score_top = 0\n",
    "    # check right\n",
    "    for j in range(y + 1, len(trees[y])):\n",
    "        scenic_score_right += 1\n",
    "        if trees[x][y] <= trees[x][j]:\n",
    "            break\n",
    "    # check left\n",
    "    for j in range(y - 1, 0 - 1, -1):\n",
    "        scenic_score_left += 1\n",
    "        if trees[x][y] <= trees[x][j]:\n",
    "            break\n",
    "    # check bottom\n",
    "    for i in range(x + 1, len(trees)):\n",
    "        scenic_score_bottom += 1\n",
    "        if trees[x][y] <= trees[i][y]:\n",
    "            break\n",
    "    # check top\n",
    "    for i in range(x - 1, 0 - 1, -1):\n",
    "        scenic_score_top += 1\n",
    "        if trees[x][y] <= trees[i][y]:\n",
    "            break\n",
    "    return scenic_score_right * scenic_score_left * scenic_score_bottom * scenic_score_top\n",
    "\n",
    "def check_scenic_score(trees: np.ndarray):\n",
    "    max_scenic_score = 0\n",
    "    for i in range(1, len(trees) - 1):\n",
    "        for j in range(1, len(trees[i]) - 1):\n",
    "            max_scenic_score = max(max_scenic_score, scenic_score([i, j], trees))\n",
    "    return max_scenic_score"
   ]
  },
  {
   "cell_type": "code",
   "execution_count": 5,
   "metadata": {},
   "outputs": [
    {
     "name": "stdout",
     "output_type": "stream",
     "text": [
      "259308\n"
     ]
    }
   ],
   "source": [
    "trees = load_data('input')\n",
    "visible_trees = check_scenic_score(trees)\n",
    "print(visible_trees)"
   ]
  }
 ],
 "metadata": {
  "kernelspec": {
   "display_name": "Python 3.9.13 ('AoC')",
   "language": "python",
   "name": "python3"
  },
  "language_info": {
   "codemirror_mode": {
    "name": "ipython",
    "version": 3
   },
   "file_extension": ".py",
   "mimetype": "text/x-python",
   "name": "python",
   "nbconvert_exporter": "python",
   "pygments_lexer": "ipython3",
   "version": "3.9.13"
  },
  "orig_nbformat": 4,
  "vscode": {
   "interpreter": {
    "hash": "99b8b259ecf060e1325605a5662f2662c95fc7cc17fc11e32a931e17a299fa8e"
   }
  }
 },
 "nbformat": 4,
 "nbformat_minor": 2
}
