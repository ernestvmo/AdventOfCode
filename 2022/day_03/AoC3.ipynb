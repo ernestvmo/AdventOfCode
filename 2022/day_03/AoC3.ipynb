{
 "cells": [
  {
   "cell_type": "code",
   "execution_count": 1,
   "metadata": {},
   "outputs": [],
   "source": [
    "from aocd.models import Puzzle\n",
    "\n",
    "def load_data(mode: str):\n",
    "    if mode == \"test\":\n",
    "        data = Puzzle(2022, 3).example_data.splitlines()\n",
    "    elif mode == 'input':\n",
    "        data = Puzzle(2022, 3).input_data.splitlines()\n",
    "    else:\n",
    "        raise ValueError(\"This mode is not valid.\")\n",
    "        \n",
    "    rucksacks = []\n",
    "    for line in data:\n",
    "        line = line.rstrip(\"\\n\")\n",
    "        rucksacks.append(line)\n",
    "    return rucksacks"
   ]
  },
  {
   "cell_type": "markdown",
   "metadata": {},
   "source": [
    "#### Part 1"
   ]
  },
  {
   "cell_type": "code",
   "execution_count": 2,
   "metadata": {},
   "outputs": [],
   "source": [
    "from string import ascii_letters\n",
    "\n",
    "def separate_compartiments(rucksack: str):\n",
    "    return rucksack[:int(len(rucksack) // 2)], rucksack[int(len(rucksack) // 2):]\n",
    "\n",
    "def extract_common_letter(comp1, comp2: list):\n",
    "    for c in comp1:\n",
    "        if c in comp2:\n",
    "            return c\n",
    "\n",
    "def find_priority_value(letter: str):\n",
    "    return ascii_letters.find(letter) + 1\n",
    "\n",
    "def sum_priorities(rucksacks: list):\n",
    "    priority_total = []\n",
    "    for rucksack in rucksacks:\n",
    "        c1, c2 = separate_compartiments(rucksack)\n",
    "        letter = extract_common_letter(c1, c2)\n",
    "        priority = find_priority_value(letter)\n",
    "        priority_total.append(priority)\n",
    "    return sum(priority_total), priority_total"
   ]
  },
  {
   "cell_type": "code",
   "execution_count": 3,
   "metadata": {},
   "outputs": [
    {
     "name": "stdout",
     "output_type": "stream",
     "text": [
      "7674\n"
     ]
    }
   ],
   "source": [
    "rucksacks = load_data(\"input\")\n",
    "priority_total, priorities = sum_priorities(rucksacks)\n",
    "print(priority_total)"
   ]
  },
  {
   "cell_type": "markdown",
   "metadata": {},
   "source": [
    "#### Part 2"
   ]
  },
  {
   "cell_type": "code",
   "execution_count": 4,
   "metadata": {},
   "outputs": [],
   "source": [
    "def find_common(rucksacks: list):\n",
    "    for c in rucksacks[0]:\n",
    "        if c in rucksacks[1] and c in rucksacks[2]:\n",
    "            return c\n",
    "\n",
    "def sum_group_priorities(rucksacks: list):\n",
    "    priorities = []\n",
    "    for i in range(0, len(rucksacks), 3):\n",
    "        letter = find_common(rucksacks[i:i+3])\n",
    "        priority = find_priority_value(letter)\n",
    "        priorities.append(priority)\n",
    "    return sum(priorities), priorities"
   ]
  },
  {
   "cell_type": "code",
   "execution_count": 5,
   "metadata": {},
   "outputs": [
    {
     "name": "stdout",
     "output_type": "stream",
     "text": [
      "2805\n"
     ]
    }
   ],
   "source": [
    "rucksacks = load_data(\"input\")\n",
    "total, priorities = sum_group_priorities(rucksacks)\n",
    "print(total)"
   ]
  }
 ],
 "metadata": {
  "kernelspec": {
   "display_name": "AoC",
   "language": "python",
   "name": "python3"
  },
  "language_info": {
   "codemirror_mode": {
    "name": "ipython",
    "version": 3
   },
   "file_extension": ".py",
   "mimetype": "text/x-python",
   "name": "python",
   "nbconvert_exporter": "python",
   "pygments_lexer": "ipython3",
   "version": "3.9.13"
  },
  "orig_nbformat": 4,
  "vscode": {
   "interpreter": {
    "hash": "99b8b259ecf060e1325605a5662f2662c95fc7cc17fc11e32a931e17a299fa8e"
   }
  }
 },
 "nbformat": 4,
 "nbformat_minor": 2
}
