{
 "cells": [
  {
   "cell_type": "code",
   "execution_count": 1,
   "metadata": {},
   "outputs": [],
   "source": [
    "from aocd.models import Puzzle\n",
    "import re\n",
    "\n",
    "def load_data(mode: str):\n",
    "    if mode == \"test\":\n",
    "        data = Puzzle(2022, 5).example_data.splitlines()\n",
    "    elif mode == 'input':\n",
    "        data = Puzzle(2022, 5).input_data.splitlines()\n",
    "    else:\n",
    "        raise ValueError(\"This mode is not valid.\")\n",
    "\n",
    "    crates = []\n",
    "    orders = []\n",
    "    flag = False\n",
    "    for line in data:\n",
    "        if line == \"\\n\" or line == \"\":\n",
    "            flag = True\n",
    "        else:  \n",
    "            line = line.rstrip(\"\\n\")\n",
    "            if not flag:\n",
    "                crates.append(line)\n",
    "            else:\n",
    "                # nums, m_from, m_to = [int(n) for n in line if n not in ascii_letters and n != \" \"]\n",
    "                nums, m_from, m_to = re.findall(r'\\d+', line)\n",
    "                orders.append([int(nums), int(m_from), int(m_to)])\n",
    "    num_crates = int(re.findall(r'\\d+', crates[-1])[-1])\n",
    "    separated_crates = [[] for _ in range(num_crates)]\n",
    "    for box in crates[0:-1]:\n",
    "        for i, j in zip(range(0, len(box), 4), range(num_crates + 1)):\n",
    "            if box[i:i+3] != \"   \":\n",
    "                separated_crates[j].insert(0, box[i:i+3])\n",
    "    crates = separated_crates\n",
    "    return crates, orders"
   ]
  },
  {
   "cell_type": "markdown",
   "metadata": {},
   "source": [
    "#### Part 1"
   ]
  },
  {
   "cell_type": "code",
   "execution_count": 2,
   "metadata": {},
   "outputs": [],
   "source": [
    "def rearrange_crates(crates: list, orders: list) -> list:\n",
    "    for repeats, move_from, move_to in orders:\n",
    "        for _ in range(repeats):\n",
    "            crates[move_to - 1].append(crates[move_from - 1].pop())\n",
    "    return crates\n",
    "\n",
    "def extract_top_boxes(rearranged_crates: list) -> str:\n",
    "    top = \"\"\n",
    "    for boxes in rearranged_crates:\n",
    "        top = top + \"\" + boxes[-1]\n",
    "    return top.replace(\"[\", \"\").replace(\"]\", \"\")"
   ]
  },
  {
   "cell_type": "code",
   "execution_count": 3,
   "metadata": {},
   "outputs": [
    {
     "name": "stdout",
     "output_type": "stream",
     "text": [
      "TBVFVDZPN\n"
     ]
    }
   ],
   "source": [
    "crates, orders = load_data(\"input\")\n",
    "rearranged_crates = rearrange_crates(crates, orders)\n",
    "top_boxes = extract_top_boxes(rearranged_crates)\n",
    "print(top_boxes)"
   ]
  },
  {
   "cell_type": "markdown",
   "metadata": {},
   "source": [
    "#### Part 2"
   ]
  },
  {
   "cell_type": "code",
   "execution_count": 4,
   "metadata": {},
   "outputs": [],
   "source": [
    "def rearrange_crates_9001(crates: list, orders: list) -> list:\n",
    "    for nums, move_from, move_to in orders:\n",
    "        for b in crates[move_from - 1][-nums:]:\n",
    "            crates[move_to - 1].append(b)\n",
    "            crates[move_from - 1].pop()\n",
    "    return crates"
   ]
  },
  {
   "cell_type": "code",
   "execution_count": 5,
   "metadata": {},
   "outputs": [
    {
     "name": "stdout",
     "output_type": "stream",
     "text": [
      "VLCWHTDSZ\n"
     ]
    }
   ],
   "source": [
    "crates, orders = load_data(\"input\")\n",
    "rearranged_crates = rearrange_crates_9001(crates, orders)\n",
    "top_boxes = extract_top_boxes(rearranged_crates)\n",
    "print(top_boxes)"
   ]
  }
 ],
 "metadata": {
  "kernelspec": {
   "display_name": "Python 3.9.13 ('AoC')",
   "language": "python",
   "name": "python3"
  },
  "language_info": {
   "codemirror_mode": {
    "name": "ipython",
    "version": 3
   },
   "file_extension": ".py",
   "mimetype": "text/x-python",
   "name": "python",
   "nbconvert_exporter": "python",
   "pygments_lexer": "ipython3",
   "version": "3.9.13"
  },
  "orig_nbformat": 4,
  "vscode": {
   "interpreter": {
    "hash": "99b8b259ecf060e1325605a5662f2662c95fc7cc17fc11e32a931e17a299fa8e"
   }
  }
 },
 "nbformat": 4,
 "nbformat_minor": 2
}
