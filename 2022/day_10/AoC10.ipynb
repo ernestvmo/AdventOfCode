{
 "cells": [
  {
   "cell_type": "code",
   "execution_count": 1,
   "metadata": {},
   "outputs": [],
   "source": [
    "from aocd.models import Puzzle\n",
    "\n",
    "def load_data(mode: str):\n",
    "    if mode == \"test\":\n",
    "        data = Puzzle(2022, 10).example_data.splitlines()\n",
    "    elif mode == 'input':\n",
    "        data = Puzzle(2022, 10).input_data.splitlines()\n",
    "    else:\n",
    "        raise ValueError(\"This mode is not valid.\")\n",
    "\n",
    "    signals = [line.rstrip(\"\\n\").split() for line in data]\n",
    "    return signals"
   ]
  },
  {
   "cell_type": "code",
   "execution_count": 2,
   "metadata": {},
   "outputs": [],
   "source": [
    "def ugly_prepare(signals: list):\n",
    "    new_signals = []\n",
    "    for signal, *_ in signals:\n",
    "        if signal == \"addx\":\n",
    "            new_signals.append([signal, 0]) \n",
    "            new_signals.append([signal, _[0]])\n",
    "        else:\n",
    "            new_signals.append([signal])\n",
    "    return new_signals\n",
    "    \n",
    "def signal_strength(signals: list):\n",
    "    cycles = 1\n",
    "    cycles_check = [20, 60, 100, 140, 180, 220]\n",
    "    X = 1\n",
    "    sum_signals = 0\n",
    "\n",
    "    for signal, *_ in signals:\n",
    "        if cycles in cycles_check:\n",
    "            sum_signals += cycles * X\n",
    "        \n",
    "        if signal == \"addx\":\n",
    "            if _[0] is not None:\n",
    "                X += int(_[0])\n",
    "            cycles += 1\n",
    "        else:\n",
    "            cycles += 1\n",
    "\n",
    "    return sum_signals"
   ]
  },
  {
   "cell_type": "code",
   "execution_count": 3,
   "metadata": {},
   "outputs": [
    {
     "data": {
      "text/plain": [
       "16020"
      ]
     },
     "execution_count": 3,
     "metadata": {},
     "output_type": "execute_result"
    }
   ],
   "source": [
    "signals = load_data(\"input\")\n",
    "signals = ugly_prepare(signals)\n",
    "signal_strength(signals)"
   ]
  },
  {
   "cell_type": "code",
   "execution_count": null,
   "metadata": {},
   "outputs": [],
   "source": []
  }
 ],
 "metadata": {
  "kernelspec": {
   "display_name": "Python 3.9.13 ('AoC')",
   "language": "python",
   "name": "python3"
  },
  "language_info": {
   "codemirror_mode": {
    "name": "ipython",
    "version": 3
   },
   "file_extension": ".py",
   "mimetype": "text/x-python",
   "name": "python",
   "nbconvert_exporter": "python",
   "pygments_lexer": "ipython3",
   "version": "3.9.13"
  },
  "orig_nbformat": 4,
  "vscode": {
   "interpreter": {
    "hash": "99b8b259ecf060e1325605a5662f2662c95fc7cc17fc11e32a931e17a299fa8e"
   }
  }
 },
 "nbformat": 4,
 "nbformat_minor": 2
}
