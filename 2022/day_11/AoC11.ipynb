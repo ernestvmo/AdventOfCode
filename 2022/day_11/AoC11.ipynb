{
 "cells": [
  {
   "cell_type": "code",
   "execution_count": 1,
   "metadata": {},
   "outputs": [],
   "source": [
    "from aocd.models import Puzzle\n",
    "import re\n",
    "from math import floor, prod\n",
    "\n",
    "def load_data(mode: str):\n",
    "    if mode == \"test\":\n",
    "        data = Puzzle(2022, 11).example_data.splitlines()\n",
    "    elif mode == 'input':\n",
    "        data = Puzzle(2022, 11).input_data.splitlines()\n",
    "    else:\n",
    "        raise ValueError(\"This mode is not valid.\")\n",
    "\n",
    "    monkey, monkeys = [], []\n",
    "    for line in data:\n",
    "        if line == \"\\n\" or line == \"\":\n",
    "            monkeys.append(monkey)\n",
    "            monkey = []\n",
    "        else:\n",
    "            monkey.append(line.rstrip(\"\\n\"))\n",
    "    monkeys.append(monkey)\n",
    "\n",
    "    monkeys_dict = {}\n",
    "    for i in range(len(monkeys)):\n",
    "        monkey = {'items': None, 'operation': None, 'condition': None, 'true_cond': None, 'false_cond': None}\n",
    "        monkey['items'] = [int(d) for d in re.findall(r'\\d+', monkeys[i][1])]\n",
    "        monkey['operation'] = monkeys[i][2].split(\":\")[1].strip()\n",
    "        monkey['condition'] = int(re.findall(r'\\d+', monkeys[i][3])[0])\n",
    "        monkey['true_cond'] = re.findall(r'\\d+', monkeys[i][4])[0]\n",
    "        monkey['false_cond'] = re.findall(r'\\d+', monkeys[i][5])[0]\n",
    "        monkey['items_check'] = 0\n",
    "        monkeys_dict[re.findall(r'\\d+', monkeys[i][0])[0]] = monkey\n",
    "    return monkeys_dict"
   ]
  },
  {
   "cell_type": "code",
   "execution_count": 2,
   "metadata": {},
   "outputs": [],
   "source": [
    "def breakdown_operation(operation: str, worry_level: int):\n",
    "    operation = operation.split()[-2:]\n",
    "    num = None\n",
    "\n",
    "    if operation[1] == \"old\":\n",
    "        num = worry_level\n",
    "    else:\n",
    "        num = int(operation[1])\n",
    "    \n",
    "    if operation[0] == \"*\":\n",
    "        return worry_level * num\n",
    "    else:\n",
    "        return worry_level + num\n",
    "\n",
    "def check_condition(condition: int, worry_level: int):\n",
    "    if worry_level % condition == 0:\n",
    "        return True\n",
    "    else:\n",
    "        return False\n",
    "\n",
    "def display_monkeys(monkeys: dict):\n",
    "    for k in monkeys.keys():\n",
    "        print(f\"Monkey {k} -> {sorted(monkeys[k]['items'])}, {monkeys[k]['items_check']} checks\")\n",
    "\n",
    "def after_x_rounds(monkeys: dict, X: int):\n",
    "    for _ in range(X):\n",
    "        for k in monkeys.keys():\n",
    "            # print(monkeys[k])\n",
    "            items = monkeys[k]['items'][:]\n",
    "            for item in items:\n",
    "                worry_level = breakdown_operation(monkeys[k]['operation'], item)\n",
    "                # print(worry_level)\n",
    "                worry_level = floor(worry_level / 3)\n",
    "                # print(worry_level)\n",
    "                monkeys[k]['items'].remove(item)\n",
    "                monkeys[monkeys[k]['true_cond' if check_condition(monkeys[k]['condition'], worry_level) else 'false_cond']]['items'].append(worry_level)\n",
    "                monkeys[k]['items_check'] += 1\n",
    "            # print(monkeys[k])\n",
    "    display_monkeys(monkeys)\n",
    "    return monkeys\n",
    "\n",
    "def find_max_checks(monkeys: dict):\n",
    "    return prod(sorted([v['items_check'] for k, v in monkeys.items()], reverse=True)[:2])"
   ]
  },
  {
   "cell_type": "code",
   "execution_count": 3,
   "metadata": {},
   "outputs": [
    {
     "name": "stdout",
     "output_type": "stream",
     "text": [
      "Monkey 0 -> [2, 2, 2, 2, 2, 2, 2, 2, 2, 51], 227 checks\n",
      "Monkey 1 -> [4, 4, 4, 4, 4, 4, 4, 4, 4, 4, 4, 4, 4, 4, 4, 4, 4, 4], 231 checks\n",
      "Monkey 2 -> [], 5 checks\n",
      "Monkey 3 -> [], 27 checks\n",
      "Monkey 4 -> [], 19 checks\n",
      "Monkey 5 -> [4, 4, 4, 4, 4, 4, 4, 4], 242 checks\n",
      "Monkey 6 -> [], 214 checks\n",
      "Monkey 7 -> [], 241 checks\n",
      "58322\n"
     ]
    }
   ],
   "source": [
    "monkeys = load_data(\"input\")\n",
    "monkeys = after_x_rounds(monkeys, 20)\n",
    "answer = find_max_checks(monkeys)\n",
    "print(answer)"
   ]
  },
  {
   "cell_type": "code",
   "execution_count": 4,
   "metadata": {},
   "outputs": [],
   "source": [
    "def after_x_rounds_worried(monkeys: dict, X: int):\n",
    "    for _ in range(X):\n",
    "        if _  % 1000 == 0:\n",
    "            print(f\"iteration {_}\")\n",
    "        for k in monkeys.keys():\n",
    "            # print(monkeys[k])\n",
    "            items = monkeys[k]['items'][:]\n",
    "            for item in items:\n",
    "                worry_level = breakdown_operation(monkeys[k]['operation'], item)\n",
    "                # print(worry_level)\n",
    "                # worry_level = floor(worry_level / 3)\n",
    "                # print(worry_level)\n",
    "                monkeys[k]['items'].remove(item)\n",
    "                monkeys[monkeys[k]['true_cond' if check_condition(monkeys[k]['condition'], worry_level) else 'false_cond']]['items'].append(worry_level)\n",
    "                monkeys[k]['items_check'] += 1\n",
    "            # print(monkeys[k])\n",
    "    display_monkeys(monkeys)\n",
    "    return monkeys"
   ]
  },
  {
   "cell_type": "code",
   "execution_count": null,
   "metadata": {},
   "outputs": [],
   "source": [
    "monkeys = load_data(\"input\")\n",
    "monkeys = after_x_rounds_worried(monkeys, 10000)\n",
    "answer = find_max_checks(monkeys)\n",
    "print(answer)"
   ]
  }
 ],
 "metadata": {
  "kernelspec": {
   "display_name": "Python 3.9.13 ('AoC')",
   "language": "python",
   "name": "python3"
  },
  "language_info": {
   "codemirror_mode": {
    "name": "ipython",
    "version": 3
   },
   "file_extension": ".py",
   "mimetype": "text/x-python",
   "name": "python",
   "nbconvert_exporter": "python",
   "pygments_lexer": "ipython3",
   "version": "3.9.13"
  },
  "orig_nbformat": 4,
  "vscode": {
   "interpreter": {
    "hash": "99b8b259ecf060e1325605a5662f2662c95fc7cc17fc11e32a931e17a299fa8e"
   }
  }
 },
 "nbformat": 4,
 "nbformat_minor": 2
}
