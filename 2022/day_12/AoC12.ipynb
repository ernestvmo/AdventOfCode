{
 "cells": [
  {
   "cell_type": "code",
   "execution_count": 1,
   "metadata": {},
   "outputs": [],
   "source": [
    "from aocd.models import Puzzle\n",
    "\n",
    "def load_data(mode: str):\n",
    "    if mode == \"test\":\n",
    "        file = open(\"test.txt\", \"r\")\n",
    "        data = file.readlines()\n",
    "        file.close()\n",
    "    else:\n",
    "        data = Puzzle(2022, 12).input_data.splitlines()\n",
    "    map = []\n",
    "    for line in data:\n",
    "        if \"S\" in line:\n",
    "            S = [data.index(line), line.index('S')]\n",
    "        if \"E\" in line:\n",
    "            E = [data.index(line), line.index('E')]\n",
    "        map.append([char for char in line.rstrip(\"\\n\")])\n",
    "    return map, S, E"
   ]
  },
  {
   "cell_type": "code",
   "execution_count": 2,
   "metadata": {},
   "outputs": [],
   "source": [
    "import networkx as nx\n",
    "import matplotlib.pyplot as plt\n",
    "import numpy as np\n",
    "from string import ascii_lowercase\n",
    "\n",
    "def draw_map(map):\n",
    "    for line in map:\n",
    "        for c in line:\n",
    "            print(c, end='')\n",
    "        print()\n",
    "    print()\n",
    "\n",
    "def is_reachable(a, b):\n",
    "    if b == 'S' or a == \"E\":\n",
    "        return False\n",
    "    a = -1 if a == 'S' else ascii_lowercase.index(a)\n",
    "    b = len(ascii_lowercase) if b == 'E' else ascii_lowercase.index(b)\n",
    "    if a + 1 == b or a == b:\n",
    "        return True\n",
    "    else: \n",
    "        return False\n",
    "\n",
    "def mapt_to_graph(map: list) -> dict:\n",
    "    network = {}\n",
    "    for i in range(len(map)):\n",
    "        for j in range(len(map[i])):\n",
    "            neighbors = {}\n",
    "            if i > 0:\n",
    "                if is_reachable(map[i][j], map[i-1][j]):\n",
    "                    neighbors[(i-1, j)] = map[i - 1][j]\n",
    "            if i < len(map) - 1:\n",
    "                if is_reachable(map[i][j], map[i+1][j]):\n",
    "                    neighbors[(i+1, j)] = map[i + 1][j]\n",
    "            if j > 0:\n",
    "                if is_reachable(map[i][j], map[i][j-1]):\n",
    "                    neighbors[(i, j-1)] = map[i][j-1]\n",
    "            if j < len(map[i]) - 1:\n",
    "                if is_reachable(map[i][j], map[i][j+1]):\n",
    "                    neighbors[(i, j+1)] = map[i][j+1]\n",
    "            if map[i][j] == 'z':\n",
    "                print(neighbors)\n",
    "            \n",
    "            network[(i, j)] = neighbors\n",
    "    return network\n",
    "\n",
    "def dijkstra(map, S, E):\n",
    "    network = mapt_to_graph(map)\n",
    "    G = nx.DiGraph()\n",
    "    for k in network.keys():\n",
    "        for n in network[k].keys():\n",
    "            G.add_edge(k, n)\n",
    "    return G\n",
    "\n",
    "# return nx.dijkstra_path_length(G, tuple(S), tuple(E))\n"
   ]
  },
  {
   "cell_type": "code",
   "execution_count": 3,
   "metadata": {},
   "outputs": [
    {
     "name": "stdout",
     "output_type": "stream",
     "text": [
      "{(20, 40): 'E', (20, 42): 'z'}\n",
      "{(20, 41): 'z', (20, 43): 'z'}\n",
      "{(20, 42): 'z'}\n"
     ]
    }
   ],
   "source": [
    "map, start, end = load_data(\"input\")\n",
    "# draw_map(map)\n",
    "N = dijkstra(map, start, end)"
   ]
  },
  {
   "cell_type": "code",
   "execution_count": 13,
   "metadata": {},
   "outputs": [
    {
     "data": {
      "image/png": "[encoded data removed]",
      "text/plain": [
       "<Figure size 640x480 with 1 Axes>"
      ]
     },
     "metadata": {},
     "output_type": "display_data"
    }
   ],
   "source": [
    "nx.draw(N, pos=nx.drawing.layout.kamada_kawai_layout(N))"
   ]
  }
 ],
 "metadata": {
  "kernelspec": {
   "display_name": "AoC",
   "language": "python",
   "name": "python3"
  },
  "language_info": {
   "codemirror_mode": {
    "name": "ipython",
    "version": 3
   },
   "file_extension": ".py",
   "mimetype": "text/x-python",
   "name": "python",
   "nbconvert_exporter": "python",
   "pygments_lexer": "ipython3",
   "version": "3.9.13 (main, Oct 13 2022, 16:12:30) \n[Clang 12.0.0 ]"
  },
  "orig_nbformat": 4,
  "vscode": {
   "interpreter": {
    "hash": "99b8b259ecf060e1325605a5662f2662c95fc7cc17fc11e32a931e17a299fa8e"
   }
  }
 },
 "nbformat": 4,
 "nbformat_minor": 2
}
