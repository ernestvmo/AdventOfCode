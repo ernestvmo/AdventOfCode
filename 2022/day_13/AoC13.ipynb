{
 "cells": [
  {
   "cell_type": "code",
   "execution_count": 16,
   "metadata": {},
   "outputs": [],
   "source": [
    "from aocd.models import Puzzle\n",
    "import re\n",
    "\n",
    "def load_data(mode: str):\n",
    "    if mode == \"test\":\n",
    "        file = open(\"test.txt\", \"r\")\n",
    "        data = file.readlines()\n",
    "        file.close()\n",
    "    else:\n",
    "        data = Puzzle(2022, 12).input_data.splitlines()\n",
    "    packets = []\n",
    "    pair = []\n",
    "    for line in data:\n",
    "        if line == \"\\n\":\n",
    "            packets.append(pair)\n",
    "            pair = []\n",
    "        else:\n",
    "            pair.append(eval(line.rstrip(\"\\n\")))\n",
    "        # print([int(n) for n in re.findall(r\"\\d+\", line.rstrip(\"\\n\"))])\n",
    "    packets.append(pair)\n",
    "    return packets"
   ]
  },
  {
   "cell_type": "code",
   "execution_count": null,
   "metadata": {},
   "outputs": [],
   "source": []
  }
 ],
 "metadata": {
  "kernelspec": {
   "display_name": "AoC",
   "language": "python",
   "name": "python3"
  },
  "language_info": {
   "codemirror_mode": {
    "name": "ipython",
    "version": 3
   },
   "file_extension": ".py",
   "mimetype": "text/x-python",
   "name": "python",
   "nbconvert_exporter": "python",
   "pygments_lexer": "ipython3",
   "version": "3.9.13 (main, Oct 13 2022, 16:12:30) \n[Clang 12.0.0 ]"
  },
  "orig_nbformat": 4,
  "vscode": {
   "interpreter": {
    "hash": "99b8b259ecf060e1325605a5662f2662c95fc7cc17fc11e32a931e17a299fa8e"
   }
  }
 },
 "nbformat": 4,
 "nbformat_minor": 2
}
