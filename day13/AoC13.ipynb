{
 "cells": [
  {
   "cell_type": "markdown",
   "metadata": {},
   "source": [
    "### Advent of Code Day 13"
   ]
  },
  {
   "cell_type": "code",
   "execution_count": 564,
   "metadata": {},
   "outputs": [],
   "source": [
    "import numpy as np"
   ]
  },
  {
   "cell_type": "markdown",
   "metadata": {},
   "source": [
    "#### Input"
   ]
  },
  {
   "cell_type": "code",
   "execution_count": 565,
   "metadata": {},
   "outputs": [],
   "source": [
    "with open('input.txt') as f:\n",
    "    lines = [line.strip() for line in f.readlines()]"
   ]
  },
  {
   "cell_type": "code",
   "execution_count": 566,
   "metadata": {},
   "outputs": [],
   "source": [
    "paper_points = []\n",
    "folding_instructions = []\n",
    "\n",
    "for line in lines:\n",
    "    if line == '':\n",
    "        continue\n",
    "    elif line.startswith('fold'):\n",
    "        folding_instructions.append(line.removeprefix('fold along '))\n",
    "    else:\n",
    "        point = line.split(',')\n",
    "        paper_points.append([int(point[0]), int(point[1])])\n",
    "\n",
    "paper_points = np.array(paper_points)"
   ]
  },
  {
   "cell_type": "markdown",
   "metadata": {},
   "source": [
    "#### Task 1"
   ]
  },
  {
   "cell_type": "code",
   "execution_count": 567,
   "metadata": {},
   "outputs": [],
   "source": [
    "def prepare_paper_grid(points_list: list):\n",
    "    grid = []\n",
    "    for r in range(max(paper_points[:,1]) + 1):\n",
    "        row = []\n",
    "        for column in range(max(paper_points[:,0]) + 1):\n",
    "            row.append('.')\n",
    "        grid.append(row)\n",
    "    for point in paper_points:\n",
    "        grid[point[1]][point[0]] = '#'\n",
    "    return grid"
   ]
  },
  {
   "cell_type": "code",
   "execution_count": 568,
   "metadata": {},
   "outputs": [],
   "source": [
    "def do_fold(grid, axis, axis_point):\n",
    "    if axis == 'y':\n",
    "        grid[axis_point] = ['-' for _ in range(len(grid[axis_point]))]\n",
    "\n",
    "        for r in range(axis_point + 1, len(grid)):\n",
    "            for c in range(len(grid[r])):\n",
    "                if grid[r][c] == '#':\n",
    "                    grid[abs(r - (len(grid) - 1))][c] = '#'\n",
    "        return grid[:axis_point]\n",
    "    if axis == 'x':\n",
    "        for r in range(len(grid)):\n",
    "            for c in range(axis_point + 1, len(grid[r])):\n",
    "                if grid[r][c] == '#':\n",
    "                    grid[r][abs(c - (len(grid[r]) - 1))] = '#'\n",
    "            grid[r] = grid[r][:axis_point]\n",
    "        return grid"
   ]
  },
  {
   "cell_type": "code",
   "execution_count": 569,
   "metadata": {},
   "outputs": [],
   "source": [
    "def do_all_folds(grid: list, folding_list: list):\n",
    "    for instruction in folding_instructions:\n",
    "        instruction = instruction.split('=')\n",
    "        grid = do_fold(grid=grid, axis=instruction[0], axis_point=int(instruction[1]))[:]\n",
    "    return grid"
   ]
  },
  {
   "cell_type": "code",
   "execution_count": 570,
   "metadata": {},
   "outputs": [],
   "source": [
    "def count_dots(grid):\n",
    "    dots = 0\n",
    "    for r in grid:\n",
    "        for c in r: \n",
    "            if c == '#':\n",
    "                dots += 1\n",
    "    return dots"
   ]
  },
  {
   "cell_type": "code",
   "execution_count": 571,
   "metadata": {},
   "outputs": [],
   "source": [
    "def main(points_list: list, folds_list: list):\n",
    "    grid = prepare_paper_grid(points_list)\n",
    "    final_grid = do_all_folds(grid, folds_list)\n",
    "    print()\n",
    "    better_display(final_grid)"
   ]
  },
  {
   "cell_type": "markdown",
   "metadata": {},
   "source": [
    "#### Task 2"
   ]
  },
  {
   "cell_type": "code",
   "execution_count": 572,
   "metadata": {},
   "outputs": [],
   "source": [
    "def better_display(grid: list):\n",
    "    for i in range(8):\n",
    "        for r in range(len(grid)):\n",
    "            print(''.join(grid[r][i*5:((i + 1)*5) - 1]))\n",
    "        print()"
   ]
  },
  {
   "cell_type": "code",
   "execution_count": 573,
   "metadata": {},
   "outputs": [
    {
     "name": "stdout",
     "output_type": "stream",
     "text": [
      "\n",
      "..##\n",
      "...#\n",
      "...#\n",
      "...#\n",
      "#..#\n",
      ".##.\n",
      "\n",
      "####\n",
      "...#\n",
      "..#.\n",
      ".#..\n",
      "#...\n",
      "####\n",
      "\n",
      ".##.\n",
      "#..#\n",
      "#...\n",
      "#.##\n",
      "#..#\n",
      ".###\n",
      "\n",
      "#..#\n",
      "#..#\n",
      "#..#\n",
      "#..#\n",
      "#..#\n",
      ".##.\n",
      "\n",
      ".##.\n",
      "#..#\n",
      "#..#\n",
      "####\n",
      "#..#\n",
      "#..#\n",
      "\n",
      "###.\n",
      "#..#\n",
      "#..#\n",
      "###.\n",
      "#...\n",
      "#...\n",
      "\n",
      "###.\n",
      "#..#\n",
      "#..#\n",
      "###.\n",
      "#.#.\n",
      "#..#\n",
      "\n",
      "###.\n",
      "#..#\n",
      "###.\n",
      "#..#\n",
      "#..#\n",
      "###.\n",
      "\n"
     ]
    }
   ],
   "source": [
    "main(paper_points, folding_instructions)"
   ]
  }
 ],
 "metadata": {
  "interpreter": {
   "hash": "aee8b7b246df8f9039afb4144a1f6fd8d2ca17a180786b69acc140d282b71a49"
  },
  "kernelspec": {
   "display_name": "Python 3.9.4 64-bit",
   "language": "python",
   "name": "python3"
  },
  "language_info": {
   "codemirror_mode": {
    "name": "ipython",
    "version": 3
   },
   "file_extension": ".py",
   "mimetype": "text/x-python",
   "name": "python",
   "nbconvert_exporter": "python",
   "pygments_lexer": "ipython3",
   "version": "3.9.4"
  },
  "orig_nbformat": 4
 },
 "nbformat": 4,
 "nbformat_minor": 2
}
