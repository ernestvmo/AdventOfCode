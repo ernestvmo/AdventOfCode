{
 "cells": [
  {
   "cell_type": "markdown",
   "metadata": {},
   "source": [
    "### Advent of Code Day 2"
   ]
  },
  {
   "cell_type": "markdown",
   "metadata": {},
   "source": [
    "#### Input"
   ]
  },
  {
   "cell_type": "code",
   "execution_count": 2,
   "metadata": {},
   "outputs": [],
   "source": [
    "inputs = []\n",
    "for l in open('input.txt'):\n",
    "    inputs.append(l.strip())"
   ]
  },
  {
   "cell_type": "markdown",
   "metadata": {},
   "source": [
    "#### Task 1"
   ]
  },
  {
   "cell_type": "code",
   "execution_count": 23,
   "metadata": {},
   "outputs": [],
   "source": [
    "def sum_commands(inputs: list):\n",
    "    forward_commands = []\n",
    "    up_commands = []\n",
    "    down_commands = []\n",
    "\n",
    "    for command in inputs:\n",
    "        if command.startswith('forward'):\n",
    "            forward_commands.append(int(command.split(' ')[1]))\n",
    "        elif command.startswith('up'):\n",
    "            up_commands.append(int(command.split(' ')[1]))\n",
    "        elif command.startswith('down'):\n",
    "            down_commands.append(int(command.split(' ')[1]))\n",
    "            \n",
    "    return sum(forward_commands) * (sum(down_commands) - sum(up_commands))"
   ]
  },
  {
   "cell_type": "code",
   "execution_count": 28,
   "metadata": {},
   "outputs": [],
   "source": [
    "def sum_commands_bis(inputs: list):\n",
    "    horizontal = 0\n",
    "    depth = 0\n",
    "\n",
    "    for command in inputs:\n",
    "        if command.startswith('forward'):\n",
    "            horizontal += int(command.split(' ')[1])\n",
    "        elif command.startswith('up'):\n",
    "            depth -= int(command.split(' ')[1])\n",
    "        elif command.startswith('down'):\n",
    "            depth += int(command.split(' ')[1])\n",
    "            \n",
    "            \n",
    "    return horizontal * depth"
   ]
  },
  {
   "cell_type": "code",
   "execution_count": 29,
   "metadata": {},
   "outputs": [
    {
     "name": "stdout",
     "output_type": "stream",
     "text": [
      "True\n"
     ]
    }
   ],
   "source": [
    "print(sum_commands(inputs)  == sum_commands_bis(inputs))"
   ]
  },
  {
   "cell_type": "markdown",
   "metadata": {},
   "source": [
    "#### Task 2"
   ]
  },
  {
   "cell_type": "code",
   "execution_count": 39,
   "metadata": {},
   "outputs": [],
   "source": [
    "test = ['forward 5',\n",
    "'down 5',\n",
    "'forward 8',\n",
    "'up 3',\n",
    "'down 8',\n",
    "'forward 2']"
   ]
  },
  {
   "cell_type": "code",
   "execution_count": 55,
   "metadata": {},
   "outputs": [],
   "source": [
    "def sum_commands_with_aim(inputs: list):\n",
    "    horizontal = 0\n",
    "    depth = 0\n",
    "    aim = 0\n",
    "\n",
    "    for command in inputs:\n",
    "        if command.startswith('forward'):\n",
    "            val = int(command.split(' ')[1])\n",
    "            horizontal += val\n",
    "            depth += val * aim\n",
    "        elif command.startswith('up'):\n",
    "            val = int(command.split(' ')[1])\n",
    "            aim -= val\n",
    "        elif command.startswith('down'):\n",
    "            val = int(command.split(' ')[1])\n",
    "            aim += val\n",
    "            \n",
    "    return horizontal * depth"
   ]
  },
  {
   "cell_type": "code",
   "execution_count": 56,
   "metadata": {},
   "outputs": [
    {
     "name": "stdout",
     "output_type": "stream",
     "text": [
      "1840311528\n"
     ]
    }
   ],
   "source": [
    "print(sum_commands_with_aim(inputs))"
   ]
  },
  {
   "cell_type": "code",
   "execution_count": null,
   "metadata": {},
   "outputs": [],
   "source": []
  }
 ],
 "metadata": {
  "interpreter": {
   "hash": "482e7c184dd3b3c99c3e0d506e6d81eb0bca54ca41bbe4d0f8e487b4d85d71d1"
  },
  "kernelspec": {
   "display_name": "Python 3.8.8 64-bit ('base': conda)",
   "language": "python",
   "name": "python3"
  },
  "language_info": {
   "codemirror_mode": {
    "name": "ipython",
    "version": 3
   },
   "file_extension": ".py",
   "mimetype": "text/x-python",
   "name": "python",
   "nbconvert_exporter": "python",
   "pygments_lexer": "ipython3",
   "version": "3.8.8"
  },
  "orig_nbformat": 4
 },
 "nbformat": 4,
 "nbformat_minor": 2
}
