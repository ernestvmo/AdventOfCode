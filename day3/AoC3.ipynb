{
 "cells": [
  {
   "cell_type": "markdown",
   "metadata": {},
   "source": [
    "### Advent of Code Day 3"
   ]
  },
  {
   "cell_type": "markdown",
   "metadata": {},
   "source": [
    "#### Input"
   ]
  },
  {
   "cell_type": "code",
   "execution_count": 1,
   "metadata": {},
   "outputs": [],
   "source": [
    "inputs = []\n",
    "for l in open('input.txt'):\n",
    "    inputs.append(l.strip())"
   ]
  },
  {
   "cell_type": "markdown",
   "metadata": {},
   "source": [
    "#### Task 1"
   ]
  },
  {
   "cell_type": "code",
   "execution_count": 29,
   "metadata": {},
   "outputs": [],
   "source": [
    "def binary_diagnostic(inputs: list):\n",
    "    bitlength_zeros = [0 for _ in range(len(inputs[0]))]\n",
    "    bitlength_ones = [0 for _ in range(len(inputs[0]))]\n",
    "\n",
    "    for bitstring in inputs:\n",
    "        for bit_index in range(len(bitstring)):\n",
    "            if bitstring[bit_index] == '1':\n",
    "                bitlength_ones[bit_index] += 1\n",
    "            if bitstring[bit_index] == '0':\n",
    "                bitlength_zeros[bit_index] += 1\n",
    "\n",
    "    gamma, epsilon = '', ''\n",
    "    for _1, _0, i in zip(bitlength_ones, bitlength_zeros, range(len(bitlength_zeros))):\n",
    "        if _1 > _0:\n",
    "            gamma += '1'\n",
    "            epsilon += '0'\n",
    "        else:\n",
    "            gamma += '0'\n",
    "            epsilon += '1'\n",
    "\n",
    "    return int(gamma, 2) * int(epsilon, 2)"
   ]
  },
  {
   "cell_type": "code",
   "execution_count": 30,
   "metadata": {},
   "outputs": [
    {
     "name": "stdout",
     "output_type": "stream",
     "text": [
      "4001724\n"
     ]
    }
   ],
   "source": [
    "print(binary_diagnostic(inputs))"
   ]
  },
  {
   "cell_type": "markdown",
   "metadata": {},
   "source": [
    "#### Task 2"
   ]
  },
  {
   "cell_type": "code",
   "execution_count": 48,
   "metadata": {},
   "outputs": [],
   "source": [
    "def keep(old_bit_string_list: list, toKeep: str, order: int):\n",
    "    new_list = []\n",
    "    for l in old_bit_string_list:\n",
    "        if l[order] == toKeep:\n",
    "            new_list.append(l)\n",
    "    return new_list[:]\n"
   ]
  },
  {
   "cell_type": "code",
   "execution_count": 65,
   "metadata": {},
   "outputs": [],
   "source": [
    "def binary_diagnostic_bis(inputs: list, which: str):\n",
    "    temp_list = inputs[:]\n",
    "    order = 0\n",
    "\n",
    "    while len(temp_list) > 1:\n",
    "        if len(temp_list) == 2:\n",
    "            if which == 'O2':\n",
    "                if temp_list[0][order] == '1':\n",
    "                    return temp_list[0]\n",
    "                else:\n",
    "                    return temp_list[1]\n",
    "            else:\n",
    "                if temp_list[0][order] == '0':\n",
    "                    return temp_list[0]\n",
    "                else:\n",
    "                    return temp_list[1]\n",
    "\n",
    "        bitlength_zeros = 0\n",
    "        bitlength_ones = 0\n",
    "\n",
    "        for bitstring in temp_list:\n",
    "            if bitstring[order] == '1':\n",
    "                bitlength_ones += 1\n",
    "            if bitstring[order] == '0':\n",
    "                bitlength_zeros += 1\n",
    "\n",
    "        # most\n",
    "        if which == 'O2':\n",
    "            if bitlength_ones > bitlength_zeros:\n",
    "                temp_list = keep(temp_list, '1', order)\n",
    "            elif bitlength_zeros > bitlength_ones:\n",
    "                temp_list = keep(temp_list, '0', order)\n",
    "            else:\n",
    "                temp_list = keep(temp_list, '1', order)\n",
    "        else:\n",
    "            if bitlength_ones < bitlength_zeros:\n",
    "                temp_list = keep(temp_list, '1', order)\n",
    "            elif bitlength_zeros < bitlength_ones:\n",
    "                temp_list = keep(temp_list, '0', order)\n",
    "            else:\n",
    "                temp_list = keep(temp_list, '0', order)\n",
    "        \n",
    "        order += 1\n",
    "\n",
    "    if len(temp_list) == 1:\n",
    "        return temp_list[0]\n",
    "    else:\n",
    "        print('error')"
   ]
  },
  {
   "cell_type": "code",
   "execution_count": 71,
   "metadata": {},
   "outputs": [],
   "source": [
    "def binary_calculation(inputs: list):\n",
    "    return int(binary_diagnostic_bis(inputs, 'O2'), 2) * int(binary_diagnostic_bis(inputs, 'CO2'), 2)"
   ]
  },
  {
   "cell_type": "code",
   "execution_count": 72,
   "metadata": {},
   "outputs": [
    {
     "name": "stdout",
     "output_type": "stream",
     "text": [
      "587895\n"
     ]
    }
   ],
   "source": [
    "print(binary_calculation(inputs))"
   ]
  }
 ],
 "metadata": {
  "interpreter": {
   "hash": "482e7c184dd3b3c99c3e0d506e6d81eb0bca54ca41bbe4d0f8e487b4d85d71d1"
  },
  "kernelspec": {
   "display_name": "Python 3.8.8 64-bit ('base': conda)",
   "language": "python",
   "name": "python3"
  },
  "language_info": {
   "codemirror_mode": {
    "name": "ipython",
    "version": 3
   },
   "file_extension": ".py",
   "mimetype": "text/x-python",
   "name": "python",
   "nbconvert_exporter": "python",
   "pygments_lexer": "ipython3",
   "version": "3.8.8"
  },
  "orig_nbformat": 4
 },
 "nbformat": 4,
 "nbformat_minor": 2
}
