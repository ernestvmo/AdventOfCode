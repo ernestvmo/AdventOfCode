{
 "cells": [
  {
   "cell_type": "markdown",
   "metadata": {},
   "source": [
    "### Advent of Code Day 7"
   ]
  },
  {
   "cell_type": "code",
   "execution_count": 1,
   "metadata": {},
   "outputs": [],
   "source": [
    "import numpy as np"
   ]
  },
  {
   "cell_type": "markdown",
   "metadata": {},
   "source": [
    "#### Input"
   ]
  },
  {
   "cell_type": "code",
   "execution_count": 2,
   "metadata": {},
   "outputs": [],
   "source": [
    "with open('input.txt') as f:\n",
    "    inputs = [int(v) for v in f.readline().split(',')]"
   ]
  },
  {
   "cell_type": "markdown",
   "metadata": {},
   "source": [
    "#### Task 1"
   ]
  },
  {
   "cell_type": "code",
   "execution_count": 3,
   "metadata": {},
   "outputs": [],
   "source": [
    "def calc_fuel_distance(crabs_fuel: list):\n",
    "    fuel_count = []\n",
    "    for crab in crabs_fuel:\n",
    "        total = 0\n",
    "        for crab_2 in crabs_fuel:\n",
    "            total += (abs(crab - crab_2))\n",
    "        fuel_count.append(total)\n",
    "    return fuel_count\n"
   ]
  },
  {
   "cell_type": "code",
   "execution_count": 4,
   "metadata": {},
   "outputs": [],
   "source": [
    "def find_least_fuel(crabs_fuel: list):\n",
    "    fuel_calcs = calc_fuel_distance(crabs_fuel)\n",
    "    # print(fuel_calcs)\n",
    "    return min(fuel_calcs)"
   ]
  },
  {
   "cell_type": "code",
   "execution_count": 5,
   "metadata": {},
   "outputs": [
    {
     "name": "stdout",
     "output_type": "stream",
     "text": [
      "355592\n"
     ]
    }
   ],
   "source": [
    "print(find_least_fuel(inputs))"
   ]
  },
  {
   "cell_type": "markdown",
   "metadata": {},
   "source": [
    "#### Task 2"
   ]
  },
  {
   "cell_type": "code",
   "execution_count": 6,
   "metadata": {},
   "outputs": [],
   "source": [
    "def calc_fuel_distance_mean(crabs_fuel: list):\n",
    "    fuel_count = []\n",
    "    mean = round(np.mean(inputs))\n",
    "    for crab in range(max(crabs_fuel) + 1):\n",
    "        total = 0\n",
    "        # fuel_count.append(sum(range(abs(crab - mean) + 1)))\n",
    "        for crab_2 in crabs_fuel:\n",
    "            distance = abs(crab - crab_2)\n",
    "            total += sum(range(distance + 1))\n",
    "            # print(distance)\n",
    "        # print()\n",
    "        fuel_count.append(total)\n",
    "    return fuel_count"
   ]
  },
  {
   "cell_type": "code",
   "execution_count": 7,
   "metadata": {},
   "outputs": [],
   "source": [
    "def find_least_fuel_bis(crabs_fuel: list):\n",
    "    fuel_calcs = calc_fuel_distance_mean(crabs_fuel)\n",
    "    # print(fuel_calcs)\n",
    "    return min(fuel_calcs)"
   ]
  },
  {
   "cell_type": "code",
   "execution_count": 8,
   "metadata": {},
   "outputs": [
    {
     "name": "stdout",
     "output_type": "stream",
     "text": [
      "101618069\n"
     ]
    }
   ],
   "source": [
    "print(find_least_fuel_bis(inputs))"
   ]
  }
 ],
 "metadata": {
  "interpreter": {
   "hash": "482e7c184dd3b3c99c3e0d506e6d81eb0bca54ca41bbe4d0f8e487b4d85d71d1"
  },
  "kernelspec": {
   "display_name": "Python 3.8.8 64-bit ('base': conda)",
   "language": "python",
   "name": "python3"
  },
  "language_info": {
   "codemirror_mode": {
    "name": "ipython",
    "version": 3
   },
   "file_extension": ".py",
   "mimetype": "text/x-python",
   "name": "python",
   "nbconvert_exporter": "python",
   "pygments_lexer": "ipython3",
   "version": "3.8.8"
  },
  "orig_nbformat": 4
 },
 "nbformat": 4,
 "nbformat_minor": 2
}
