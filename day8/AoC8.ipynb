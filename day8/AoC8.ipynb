{
 "cells": [
  {
   "cell_type": "markdown",
   "metadata": {},
   "source": [
    "### Advent of Code Day 8"
   ]
  },
  {
   "cell_type": "markdown",
   "metadata": {},
   "source": [
    "#### Input"
   ]
  },
  {
   "cell_type": "code",
   "execution_count": 18,
   "metadata": {},
   "outputs": [],
   "source": [
    "with open('test.txt') as f:\n",
    "    # lines = f.readlines()\n",
    "    lines = f.readline()"
   ]
  },
  {
   "cell_type": "code",
   "execution_count": 19,
   "metadata": {},
   "outputs": [],
   "source": [
    "line = lines.strip()\n",
    "signal_pattern, signal_output = line.split(' | ')\n",
    "signal_pattern = [pattern for pattern in signal_pattern.split(' ')]\n",
    "signal_output = [pattern for pattern in signal_output.split(' ')]"
   ]
  },
  {
   "cell_type": "code",
   "execution_count": 2,
   "metadata": {},
   "outputs": [],
   "source": [
    "signal_patterns, signal_outputs = [], []\n",
    "\n",
    "for line in lines:\n",
    "    line = line.strip()\n",
    "    signal_pattern, signal_output = line.split(' | ')\n",
    "    signal_pattern = [pattern for pattern in signal_pattern.split(' ')]\n",
    "    signal_output = [pattern for pattern in signal_output.split(' ')]\n",
    "    signal_patterns.append(signal_pattern)\n",
    "    signal_outputs.append(signal_output)"
   ]
  },
  {
   "cell_type": "markdown",
   "metadata": {},
   "source": [
    "0 = 6 segments <br>\n",
    "1 = 2 segments<br>\n",
    "2 = 5 segments<br>\n",
    "3 = 5 segments<br>\n",
    "4 = 4 segments<br>\n",
    "5 = 5 segments<br>\n",
    "6 = 6 segments<br>\n",
    "7 = 3 segments<br>\n",
    "8 = 7 segments<br>\n",
    "9 = 6 segments"
   ]
  },
  {
   "cell_type": "markdown",
   "metadata": {},
   "source": [
    "#### Task 1"
   ]
  },
  {
   "cell_type": "code",
   "execution_count": 4,
   "metadata": {},
   "outputs": [],
   "source": [
    "def draw_digit(sequence: str):\n",
    "    digit = ''\n",
    "    # a\n",
    "    digit += ' ' + ('a'*4 if 'a' in sequence else '.'*4) + ' \\n'\n",
    "    # b and c\n",
    "    digit += ('b' if 'b' in sequence else '.') + ' '*4 + ('c' if 'c' in sequence else '.') + '\\n'\n",
    "    digit += ('b' if 'b' in sequence else '.') + ' '*4 + ('c' if 'c' in sequence else '.') + '\\n'\n",
    "    # d\n",
    "    digit += ' ' + ('d'*4 if 'd' in sequence else '.'*4) + ' \\n'\n",
    "    # e and f\n",
    "    digit += ('e' if 'e' in sequence else '.') + ' '*4 + ('f' if 'f' in sequence else '.') + '\\n'\n",
    "    digit += ('e' if 'e' in sequence else '.') + ' '*4 + ('f' if 'f' in sequence else '.') + '\\n'\n",
    "    # g\n",
    "    digit += ' ' + ('g'*4 if 'g' in sequence else '.'*4) + ' '\n",
    "\n",
    "    return digit"
   ]
  },
  {
   "cell_type": "code",
   "execution_count": 12,
   "metadata": {},
   "outputs": [],
   "source": [
    "def find_digit(segments: int):\n",
    "    if segments == 2:\n",
    "        return ['1']\n",
    "    elif segments == 3:\n",
    "        return ['7']\n",
    "    elif segments == 4:\n",
    "        return ['4']\n",
    "    elif segments == 5:\n",
    "        return ['2', '3', '5']\n",
    "    elif segments == 6:\n",
    "        return ['0', '6', '9']\n",
    "    elif segments == 7:\n",
    "        return ['8']"
   ]
  },
  {
   "cell_type": "code",
   "execution_count": 7,
   "metadata": {},
   "outputs": [],
   "source": [
    "def correct_segment(output: list):\n",
    "    for signal in output:\n",
    "        possibilities = find_digit(len(signal))\n",
    "        if len(possibilities) == 1:\n",
    "            print(draw_digit(signal))\n",
    "            print(f'the digit can only be a(n) {possibilities[0]}')"
   ]
  },
  {
   "cell_type": "code",
   "execution_count": 10,
   "metadata": {},
   "outputs": [],
   "source": [
    "def count_appearances(output_signal: list):\n",
    "    count = 0\n",
    "    for output in output_signal:\n",
    "        for signal in output:\n",
    "            possibilities = find_digit(len(signal))\n",
    "            if len(possibilities) == 1:\n",
    "                count += 1\n",
    "    return count"
   ]
  },
  {
   "cell_type": "code",
   "execution_count": 11,
   "metadata": {},
   "outputs": [
    {
     "name": "stdout",
     "output_type": "stream",
     "text": [
      "456\n"
     ]
    }
   ],
   "source": [
    "print(count_appearances(signal_outputs))"
   ]
  },
  {
   "cell_type": "markdown",
   "metadata": {},
   "source": [
    "#### Task 2"
   ]
  },
  {
   "cell_type": "code",
   "execution_count": 20,
   "metadata": {},
   "outputs": [
    {
     "data": {
      "text/plain": [
       "['fdgacbe', 'cefdb', 'cefbgd', 'gcbe']"
      ]
     },
     "execution_count": 20,
     "metadata": {},
     "output_type": "execute_result"
    }
   ],
   "source": [
    "signal_output"
   ]
  },
  {
   "cell_type": "code",
   "execution_count": null,
   "metadata": {},
   "outputs": [],
   "source": []
  }
 ],
 "metadata": {
  "interpreter": {
   "hash": "482e7c184dd3b3c99c3e0d506e6d81eb0bca54ca41bbe4d0f8e487b4d85d71d1"
  },
  "kernelspec": {
   "display_name": "Python 3.8.8 64-bit ('base': conda)",
   "language": "python",
   "name": "python3"
  },
  "language_info": {
   "codemirror_mode": {
    "name": "ipython",
    "version": 3
   },
   "file_extension": ".py",
   "mimetype": "text/x-python",
   "name": "python",
   "nbconvert_exporter": "python",
   "pygments_lexer": "ipython3",
   "version": "3.8.8"
  },
  "orig_nbformat": 4
 },
 "nbformat": 4,
 "nbformat_minor": 2
}
